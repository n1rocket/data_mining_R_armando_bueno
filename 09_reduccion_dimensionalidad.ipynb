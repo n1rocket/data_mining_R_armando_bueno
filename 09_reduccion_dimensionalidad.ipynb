{
 "cells": [
  {
   "cell_type": "markdown",
   "metadata": {},
   "source": [
    "# Principal Component Analysis"
   ]
  },
  {
   "cell_type": "markdown",
   "metadata": {},
   "source": [
    "### Cambio de bases ortogonales"
   ]
  },
  {
   "cell_type": "markdown",
   "metadata": {},
   "source": [
    "Supongamos tenemos los siguientes puntos en un espacio vectorial euclideo:\n",
    "\n",
    "\\\\[\n",
    "\\vec{p}_1=\\begin{bmatrix}\n",
    "1\\\\ \n",
    "1\n",
    "\\end{bmatrix}\n",
    "\\;\\;\\;\\;\n",
    "\\vec{p}_2=\\begin{bmatrix}\n",
    "-1\\\\ \n",
    "1\n",
    "\\end{bmatrix}\n",
    "\\;\\;\\;\\;\n",
    "\\vec{p}_3=\\begin{bmatrix}\n",
    "0\\\\ \n",
    "-1\n",
    "\\end{bmatrix}\n",
    "\\;\\;\\;\\;\n",
    "\\vec{p}_4=\\begin{bmatrix}\n",
    "1\\\\ \n",
    "0\n",
    "\\end{bmatrix}\n",
    "\\\\]\n",
    "\n",
    "Estos vectores los podemos agrupar en una matrix $X$:\n",
    "\\\\[\n",
    "X=\\begin{bmatrix}\n",
    "{\\vec{p}_1}^\\intercal\\\\ \n",
    "{\\vec{p}_2}^\\intercal\\\\ \n",
    "{\\vec{p}_3}^\\intercal\\\\ \n",
    "{\\vec{p}_4}^\\intercal\n",
    "\\end{bmatrix}=\n",
    "\\begin{bmatrix}\n",
    "1&1\\\\ \n",
    "-1&1\\\\ \n",
    "0&-1\\\\ \n",
    "1&0\n",
    "\\end{bmatrix}\n",
    "\\\\]"
   ]
  },
  {
   "cell_type": "code",
   "execution_count": null,
   "metadata": {},
   "outputs": [],
   "source": [
    "options(repr.plot.height=1,repr.plot.width=8,repr.plot.res = 200)\n",
    "\n",
    "p1<-matrix(c(1,1),ncol=1)\n",
    "p2<-matrix(c(-1,1),ncol=1)\n",
    "p3<-matrix(c(0,-1),ncol=1)\n",
    "p4<-matrix(c(1,0),ncol=1)\n",
    "X<-rbind(t(p1),t(p2),t(p3),t(p4))\n",
    "options(repr.plot.height=4,repr.plot.width=4)\n",
    "plot(X[,1],X[,2],xlim=c(-2,2),ylim = c(-2,2),xlab=\"x1\",ylab=\"x2\")\n",
    "abline(c(0,1),col=\"blue\")\n",
    "abline(c(0,-1),col=\"blue\")\n",
    "abline(h=0,col=\"red\")\n",
    "abline(v=0,col=\"red\")\n",
    "grid()"
   ]
  },
  {
   "cell_type": "markdown",
   "metadata": {},
   "source": [
    "Pero queremos cambiar el eje, queremos realizar una transformación lineal del espacio vectorial.\n",
    "Nuestro nuevo espacio vectorial vendrá dado por los vectores ortonormales:\n",
    "\\\\[\n",
    "\\vec{u}_1=\\begin{bmatrix}\n",
    "\\frac{1}{\\sqrt{2}}\\\\ \n",
    "\\frac{1}{\\sqrt{2}}\n",
    "\\end{bmatrix}\n",
    "\\;\\;\\;\\;\n",
    "\\vec{u}_2=\\begin{bmatrix}\n",
    "\\frac{-1}{\\sqrt{2}}\\\\ \n",
    "\\frac{1}{\\sqrt{2}}\n",
    "\\end{bmatrix}\n",
    "\\\\]"
   ]
  },
  {
   "cell_type": "code",
   "execution_count": null,
   "metadata": {},
   "outputs": [],
   "source": [
    "u1<-matrix(c( 1/sqrt(2),1/sqrt(2)),ncol=1)\n",
    "u2<-matrix(c(-1/sqrt(2),1/sqrt(2)),ncol=1)\n",
    "paste(\"Son normales porque su norma es \",sum(u1^2))\n",
    "paste(\"Son ortogonales porque su producto escalar es \",t(u1) %*% u2)"
   ]
  },
  {
   "cell_type": "markdown",
   "metadata": {},
   "source": [
    "Los puntos $p_x$ de nuestro espacio se pueden representar mediante una combinación lineal de los vectores $\\vec{u}_1$ y $\\vec{u}_2$.\n",
    "\n",
    "\\\\[\n",
    "\\vec{p}= \\sum_i \\alpha_i \\vec{u}_i\n",
    "\\\\]\n",
    "\n",
    "\\\\[\n",
    "\\vec{p}_1=\\begin{bmatrix}\n",
    "1\\\\ \n",
    "1\n",
    "\\end{bmatrix}= \\sqrt{2}·\\vec{u}_1 +  0·\\vec{u}_2\n",
    "\\\\]\n",
    "\\\\[\n",
    "\\vec{p}_2=\\begin{bmatrix} \n",
    "-1\\\\ \n",
    "1\n",
    "\\end{bmatrix}= 0·\\vec{u}_1 +  \\sqrt{2}·\\vec{u}_2\n",
    "\\\\]\n",
    "\\\\[\n",
    "\\vec{p}_3=\\begin{bmatrix}\n",
    "0\\\\ \n",
    "-1\n",
    "\\end{bmatrix}= \\frac{-1}{\\sqrt{2}}·\\vec{u}_1 + \\frac{-1}{\\sqrt{2}}·\\vec{u}_2\n",
    "\\\\]\n",
    "\\\\[\n",
    "\\vec{p}_4=\\begin{bmatrix}\n",
    "1\\\\ \n",
    "0\n",
    "\\end{bmatrix}= \\frac{1}{\\sqrt{2}}·\\vec{u}_1 - \\frac{1}{\\sqrt{2}}·\\vec{u}_2\n",
    "\\\\]\n",
    "\n",
    "Esto nos origina otra matriz con referencia al espacio vectorial $\\vec{u_x}$ tal que:\n",
    "\\\\[\n",
    "U=\\begin{bmatrix}\n",
    "\\sqrt{2}&0\\\\ \n",
    "0&\\sqrt{2}\\\\ \n",
    "\\frac{-1}{\\sqrt{2}}&\\frac{-1}{\\sqrt{2}}\\\\ \n",
    "\\frac{1}{\\sqrt{2}}&\\frac{-1}{\\sqrt{2}}\n",
    "\\end{bmatrix}\n",
    "=\n",
    "\\begin{bmatrix}\n",
    "1&1\\\\ \n",
    "-1&1\\\\ \n",
    "0&-1\\\\ \n",
    "1&0\n",
    "\\end{bmatrix}·\n",
    "\\begin{bmatrix}\n",
    "\\frac{1}{\\sqrt{2}}&\\frac{-1}{\\sqrt{2}}\\\\ \n",
    "\\frac{1}{\\sqrt{2}}&\\frac{1}{\\sqrt{2}}\n",
    "\\end{bmatrix}\n",
    "\\\\]"
   ]
  },
  {
   "cell_type": "code",
   "execution_count": null,
   "metadata": {},
   "outputs": [],
   "source": [
    "U<-X %*% cbind(u1, u2)\n",
    "plot(U[,1],U[,2],xlim=c(-2,2),ylim = c(-2,2),xlab=\"x1\",ylab=\"x2\")\n",
    "abline(c(0,1),col=\"red\")\n",
    "abline(c(0,-1),col=\"red\")\n",
    "abline(h=0,col=\"blue\")\n",
    "abline(v=0,col=\"blue\")\n",
    "grid()"
   ]
  },
  {
   "cell_type": "code",
   "execution_count": null,
   "metadata": {},
   "outputs": [],
   "source": [
    "paste(\"Si queremos recuperar la variable X original:\")\n",
    "U %*% solve(cbind(u1, u2))"
   ]
  },
  {
   "cell_type": "markdown",
   "metadata": {},
   "source": [
    "### Distribución de los datos\n",
    "\n",
    "Los datos no se distribuyen igual entre todas las dimensiones.\n",
    "\n",
    "Nos interesa encontrar la dirección de máxima variabilidad de los datos para, sobre esa dirección (vector), proyectar nuestros datos.\n",
    "\\\\[\n",
    "\\vec{p}= \\sum_i \\alpha_i \\vec{u}_i\n",
    "\\\\]"
   ]
  },
  {
   "cell_type": "code",
   "execution_count": null,
   "metadata": {},
   "outputs": [],
   "source": [
    "library(ggplot2)\n",
    "options(repr.plot.height=4,repr.plot.width=6)\n",
    "\n",
    "#set.seed(123)\n",
    "set.seed(124)\n",
    "N<-150\n",
    "x1<-c(rnorm(N,mean=0,sd=5))\n",
    "x2<-c(0.4*x1+rnorm(N,mean=0,sd=2))\n",
    "\n",
    "mydata<-data.frame(x1,x2)\n",
    "ggplot(mydata,aes(x=x1,y=x2))+geom_point(size=0.5)+    \n",
    "        xlim(c(-15,15))+ylim(c(-15,15))+\n",
    "        theme_bw()"
   ]
  },
  {
   "cell_type": "markdown",
   "metadata": {},
   "source": [
    "La dirección de máxima dispersión va a venir dada por la **covarianza**:\n",
    "##### Covarianza\n",
    "\n",
    "La covarianza es un valor que indica el grado de variación **lineal** conjunta de dos variables aleatorias respecto a sus medias.\n",
    "\n",
    "Supongamos que queremos comparar dos variables aleatorias X e Y:\n",
    "* Tendremos alta covarianza (positiva) cuando, para valores altos de X, tengamos mayoritariamente valores altos de Y\n",
    "* Tendremos baja covarianza (negativa) cuando, para valores altos de X, tengamos mayoritariamente valores bajos de Y\n",
    "* Tendremos covarianza cercana a 0, para valores altos de X, los valores de Y pueden ser altos o bajos por igual\n",
    "\n",
    "\n",
    "Su formula es la siguiente:\n",
    "\\\\[\n",
    "cov(X,Y) = \\frac{1}{N} \\sum _{i=1}^N \\left( x_i-\\bar{x} \\right)\\left( y_i-\\bar{y} \\right)\n",
    "\\\\]\n",
    "\n",
    "Recordemos la formula de la varianza:\n",
    "\\\\[\n",
    "Var(x) =  \\frac{1}{N} \\sum _{i=1}^N \\left( x_i-\\bar{x} \\right)^2\n",
    "\\\\]\n",
    "\n",
    "La covarianza de una variable aleatoria consigo misma es igual a la varianza:\n",
    "\\\\[\n",
    "cov(X,X) = Var(X)\n",
    "\\\\]\n",
    "\n",
    "En R la calculamos con la función *cov(x,y)*\n",
    "\n"
   ]
  },
  {
   "cell_type": "code",
   "execution_count": null,
   "metadata": {},
   "outputs": [],
   "source": [
    "M<-matrix(c(mydata$x1,mydata$x2),ncol=2,byrow = FALSE)\n",
    "paste(\"La covarianza:\")\n",
    "cov(M)\n",
    "paste(\"es igual al producto de la matriz consigo misma dividido por N-1:\")\n",
    "t(M) %*% M"
   ]
  },
  {
   "cell_type": "code",
   "execution_count": null,
   "metadata": {},
   "outputs": [],
   "source": [
    "#La covarianza es equivante a:\n",
    "(t(M) %*% M)/(N-1)"
   ]
  },
  {
   "cell_type": "code",
   "execution_count": null,
   "metadata": {},
   "outputs": [],
   "source": [
    "?cov"
   ]
  },
  {
   "cell_type": "markdown",
   "metadata": {},
   "source": [
    "### Autovectores y autovalores"
   ]
  },
  {
   "cell_type": "markdown",
   "metadata": {},
   "source": [
    "Un autovector (*eigenvector*) de una matrix $A$, es un vector cuyo valor solo cambia por un escalar $\\lambda$, llamado autovalor (*eigenvalue*), cuando se multiplica por la matriz $A$ "
   ]
  },
  {
   "cell_type": "code",
   "execution_count": null,
   "metadata": {},
   "outputs": [],
   "source": [
    "A<-matrix(c(1,1,1,3),ncol=2)\n",
    "A"
   ]
  },
  {
   "cell_type": "code",
   "execution_count": null,
   "metadata": {},
   "outputs": [],
   "source": [
    "eigen(A)"
   ]
  },
  {
   "cell_type": "code",
   "execution_count": null,
   "metadata": {},
   "outputs": [],
   "source": [
    "v1<-eigen(A)$vectors[,1]\n",
    "l1<-eigen(A)$values[1]\n",
    "# Multiplicar la matriz A por su autovector v1\n",
    "A %*% v1\n",
    "# Es equivalente a multiplicar el autovector v1 por su autovalor l1\n",
    "matrix(l1*v1,ncol=1)"
   ]
  },
  {
   "cell_type": "markdown",
   "metadata": {},
   "source": [
    "Esto significa que si tenemos una serie de puntos (en rojo), al ser multiplicados por la matriz $A$ se van a **desplazar** siguiendo la **dirección** dada por los autovectores con la **magnitud** dada por los autovalores."
   ]
  },
  {
   "cell_type": "code",
   "execution_count": null,
   "metadata": {},
   "outputs": [],
   "source": [
    "N<-20\n",
    "df<-data.frame(x1=cos(seq(0,2*pi,length.out = N)),x2=sin(seq(0,2*pi,length.out = N)),\n",
    "               x1n=rep(NA,N),x2n=rep(NA,N))\n",
    "for (i in 1:nrow(df)){\n",
    "    v <- A %*% matrix(unlist(df[i,1:2]),ncol=1)\n",
    "    df$x1n[i]<-v[1]\n",
    "    df$x2n[i]<-v[2]\n",
    "}\n",
    "eigv<-eigen(A)$vectors\n",
    "\n",
    "ggplot(df)+geom_point(aes(x=x1,y=x2),color=\"red\")+\n",
    "    geom_point(aes(x=x1n,y=x2n),color=\"blue\")+\n",
    "    geom_hline(yintercept = 0,color=\"gray\")+\n",
    "    geom_vline(xintercept = 0,color=\"gray\")+\n",
    "    geom_abline(intercept = 0,slope = eigv[2,1]/eigv[1,1],color=\"black\")+\n",
    "    geom_abline(intercept = 0,slope = eigv[2,2]/eigv[1,2],color=\"black\")+\n",
    "    geom_segment(aes(x = x1, y = x2, xend=x1n,yend=x2n),color=\"gray\")+\n",
    "    xlim(c(-4,4))+ylim(c(-3.5,3.5))+\n",
    "    theme_bw()"
   ]
  },
  {
   "cell_type": "markdown",
   "metadata": {},
   "source": [
    "### Análisis de componentes principales\n",
    "\n",
    "En este caso vamos a realizar una transformación de nuestros datos originales en un nuevo espacio vectorial.\n",
    "\n",
    "\n",
    "Nos interesa encontrar la dirección de máxima variabilidad de los datos para, sobre esa dirección (vector), proyectar nuestros datos sobre una base **ortonormal**.\n",
    "\n",
    "\\\\[\n",
    "\\vec{p}= \\sum_i \\alpha_i \\vec{u}_i\n",
    "\\\\]\n",
    "\n",
    "Los autovectores de la matriz de covarianza de nuestros datos o $A^\\intercal·A$ nos proporcionan esa base vectorial sobre la cual proyectar nuestros datos.\n",
    "* Cuanto mayor sea el *autovalor*, más importancia, más varianza, tendrá la proyección de los datos sobre el *autovector* correspondiente.\n",
    "* Los autovalores de la matriz de covarianza de A  coinciden con la diagonal de la matriz de covarianza de la proyección de  A  sobre la base vectorial de autovectores"
   ]
  },
  {
   "cell_type": "code",
   "execution_count": null,
   "metadata": {},
   "outputs": [],
   "source": [
    "M<-matrix(c(mydata$x1,mydata$x2),ncol=2)\n",
    "eigv<-eigen(t(M) %*% M)$vector\n",
    "eigen(t(M) %*% M)\n",
    "eigen(cov(M))\n",
    "\n",
    "ggplot(mydata,aes(x=x1,y=x2))+geom_point(size=0.5)+    \n",
    "        geom_abline(intercept = 0,slope = eigv[2,1]/eigv[1,1],color=\"red\")+\n",
    "        geom_abline(intercept = 0,slope = eigv[2,2]/eigv[1,2],color=\"blue\")+\n",
    "        xlim(c(-15,15))+ylim(c(-15,15))+\n",
    "        theme_bw()+ coord_fixed() "
   ]
  },
  {
   "cell_type": "code",
   "execution_count": null,
   "metadata": {},
   "outputs": [],
   "source": [
    "mydata_rot<-data.frame(x1=M %*% eigv[,1],x2=M %*% eigv[,2])\n",
    "\n",
    "\n",
    "ggplot(mydata_rot,aes(x=x1,y=x2))+geom_point(size=0.5)+    \n",
    "        geom_hline(yintercept = 0,color=\"red\")+\n",
    "        geom_vline(xintercept = 0,color=\"blue\")+\n",
    "        xlim(c(-15,15))+ylim(c(-15,15))+\n",
    "        theme_bw()"
   ]
  },
  {
   "cell_type": "code",
   "execution_count": null,
   "metadata": {},
   "outputs": [],
   "source": [
    "# Los autovalores de la matriz de covarianza de A  coinciden con \n",
    "# la diagonal de la matriz de covarianza de la proyección de  A  sobre la base vectorial de autovectores\n",
    "var(mydata_rot)\n",
    "eigen(var(M))$values"
   ]
  },
  {
   "cell_type": "markdown",
   "metadata": {},
   "source": [
    "### Diferencias entre PCA y regresión lineal\n",
    "\n",
    "La regresión lineal busca minimizar el error cuadrático medio:\n",
    "\\\\[\n",
    "MSE = {1 \\over n} \\sum_{i=0}^n{(Y-\\hat{Y})^2}\n",
    "\\\\]\n",
    "En PCA buscamos maximizar la proyección de nuestros datos sobre la nueva base vectorial.\n",
    "\n",
    "En la siguiente figura se ve claro:\n",
    "* PCA busca minimizar la distancia de los puntos a la línea roja de forma perpendicular (línea discontinua)\n",
    "* Regresión linear busca minimizar la distancia de los puntos a la línea verde de forma vertical (línea discontinua)"
   ]
  },
  {
   "cell_type": "code",
   "execution_count": null,
   "metadata": {},
   "outputs": [],
   "source": [
    "mydata_pca1<-as.data.frame(x=matrix(mydata_rot$x1,ncol=1) %*% t(eigv[,1]))\n",
    "colnames(mydata_pca1)<-c(\"x1pca\",\"x2pca\")\n",
    "mydata_total<-cbind(mydata,mydata_pca1)\n",
    "\n",
    "linear_model<-lm(mydata,formula=x2~x1)\n",
    "mydata_total$x2lm<-predict(linear_model,mydata)\n",
    "\n",
    "ggplot(mydata_total[1:10,],aes(x=x1,y=x2))+\n",
    "        geom_point(aes(x=x1pca,y=x2pca),color=\"red\")+\n",
    "        geom_abline(intercept = 0,slope = eigv[2,1]/eigv[1,1],color=\"red\")+\n",
    "        #geom_abline(intercept = 0,slope = eigv[2,2]/eigv[1,2],color=\"blue\")+\n",
    "        geom_segment(aes(x = x1, y = x2, xend=x1pca,yend=x2pca),color=\"red\",linetype = \"dashed\")+\n",
    "        geom_abline(intercept = linear_model$coefficients[1],slope = linear_model$coefficients[2],color=\"#00FF88\")+\n",
    "        geom_segment(aes(x = x1, y = x2, xend=x1,yend=x2lm),color=\"#00FF88\",linetype = \"dashed\")+\n",
    "        geom_point(size=1)+\n",
    "        xlim(c(-12,12))+ylim(c(-9,9))+\n",
    "        theme_bw()"
   ]
  },
  {
   "cell_type": "markdown",
   "metadata": {},
   "source": [
    "https://www.reddit.com/r/interestingasfuck/comments/k40puy/line_of_best_fit_visualised/"
   ]
  },
  {
   "cell_type": "markdown",
   "metadata": {},
   "source": [
    "### Calculo en R\n",
    "\n",
    "En R podemos usar el comando \n",
    "```\n",
    "prcomp(mydata)\n",
    "```\n",
    "para hacer un PCA, devuelve 3 listas de interés:\n",
    "* x : aquí se encuentran los datos de la matriz original proyectados sobre los autovectores. Están ordenados de mayor a menor autovalor.\n",
    "* sdev: Es la desviación estandard de cada columna de x. Su cuadrado es el correspondiente autovalor de cov(x).\n",
    "* rotation: matriz con los autovectores\n"
   ]
  },
  {
   "cell_type": "code",
   "execution_count": null,
   "metadata": {},
   "outputs": [],
   "source": [
    "M<-matrix(c(mydata$x1,mydata$x2),ncol=2)\n",
    "print(\"Mutiplicacion\")\n",
    "eigen(t(M)%*%M)\n",
    "print(\"Covarianza\")\n",
    "eigen(cov(mydata))\n",
    "print(\"Función prcomp\")\n",
    "prmydata<-prcomp(mydata,center = FALSE, scale. = FALSE)\n",
    "prmydata\n",
    "\n",
    "plot(prmydata$x[,1:2])"
   ]
  },
  {
   "cell_type": "code",
   "execution_count": null,
   "metadata": {},
   "outputs": [],
   "source": [
    "# En prmydata$x tenemos los datos ya transformados. \n",
    "# Evidentemente sus autovectores serán del tipo [0,1] y [1,0], coincidirán con el eje de coordenadas.\n",
    "eigen(cov(prmydata$x))"
   ]
  },
  {
   "cell_type": "markdown",
   "metadata": {},
   "source": [
    "Evidentemente el resultado de la matrix 'prmydata$x' coincide con el obtenido de la forma anterior si utilizamos la matriz de rotación con los datos originales:"
   ]
  },
  {
   "cell_type": "code",
   "execution_count": null,
   "metadata": {},
   "outputs": [],
   "source": [
    "print(\"Valor dado por la función prcomp\")\n",
    "prmydata$x[1,]\n",
    "print(\"Multiplicando por la matriz de rotación\")\n",
    "matrix(unlist(mydata[1,]),nrow=1) %*% prmydata$rotation\n",
    "print(\"Con función predict\")\n",
    "predict(prmydata,newdata = mydata[1,])"
   ]
  },
  {
   "cell_type": "markdown",
   "metadata": {},
   "source": [
    "Si nos llega un nuevo vector podemos aplicar la transformada para colocarla en el espacio proyectado por los autovectores del PCA:"
   ]
  },
  {
   "cell_type": "code",
   "execution_count": null,
   "metadata": {},
   "outputs": [],
   "source": [
    "new_vector<-matrix(c(1,1),nrow=1)\n",
    "colnames(new_vector)<-c('x1','x2')\n",
    "print(\"Multiplicando por la matriz de rotación\")\n",
    "new_vector %*% prmydata$rotation\n",
    "print(\"Con Predict\")\n",
    "predict(prmydata,newdata = new_vector)"
   ]
  },
  {
   "cell_type": "markdown",
   "metadata": {},
   "source": [
    "La matriz de autovalores (también llamada matriz de rotación) es una matriz ortogonal. Esto signigica que su inversa es su transpuesta:\n",
    "\\\\[\n",
    "{V} ^{\\operatorname {T} }=\\mathbf {V} ^{-1}\n",
    "\\\\]"
   ]
  },
  {
   "cell_type": "code",
   "execution_count": null,
   "metadata": {},
   "outputs": [],
   "source": [
    "solve(prmydata$rotation)"
   ]
  },
  {
   "cell_type": "code",
   "execution_count": null,
   "metadata": {},
   "outputs": [],
   "source": [
    "t(prmydata$rotation)"
   ]
  },
  {
   "cell_type": "markdown",
   "metadata": {},
   "source": [
    "Para obtener el valor original solo tienes que multiplicar el resultado otra vez:"
   ]
  },
  {
   "cell_type": "code",
   "execution_count": null,
   "metadata": {},
   "outputs": [],
   "source": [
    "new_vector<-matrix(c(1,1),nrow=1,dimnames=list(1,c('x1','x2')))\n",
    "out<-predict(prmydata,newdata = new_vector)"
   ]
  },
  {
   "cell_type": "code",
   "execution_count": null,
   "metadata": {},
   "outputs": [],
   "source": [
    "out %*% t(prmydata$rotation)"
   ]
  },
  {
   "cell_type": "markdown",
   "metadata": {},
   "source": [
    "#### PCA como compresión de información\n",
    "\n",
    "Podemos usar PCA para comprimir los datos, reducir la información a los autovectores más importantes y eliminar el ruido"
   ]
  },
  {
   "cell_type": "code",
   "execution_count": null,
   "metadata": {},
   "outputs": [],
   "source": [
    "mydata_pca<-predict(prmydata,newdata = mydata)"
   ]
  },
  {
   "cell_type": "code",
   "execution_count": null,
   "metadata": {},
   "outputs": [],
   "source": [
    "mydata_pca[,2]<-0"
   ]
  },
  {
   "cell_type": "code",
   "execution_count": null,
   "metadata": {},
   "outputs": [],
   "source": [
    "mydata_filtered<- mydata_pca %*% t(prmydata$rotation)"
   ]
  },
  {
   "cell_type": "code",
   "execution_count": null,
   "metadata": {},
   "outputs": [],
   "source": [
    "plot(mydata$x1,mydata$x2)\n",
    "points(mydata_filtered[,1],mydata_filtered[,2],col=\"red\")"
   ]
  },
  {
   "cell_type": "markdown",
   "metadata": {},
   "source": [
    "#### Ejemplo clima ciudades\n",
    "\n",
    "\n",
    "https://en.wikipedia.org/wiki/List_of_cities_by_sunshine_duration\n",
    "\n",
    "https://en.wikipedia.org/wiki/List_of_cities_by_temperature"
   ]
  },
  {
   "cell_type": "code",
   "execution_count": null,
   "metadata": {},
   "outputs": [],
   "source": [
    "df_sunny<-read.csv('data/cities_sunny.csv')\n",
    "head(df_sunny)"
   ]
  },
  {
   "cell_type": "code",
   "execution_count": null,
   "metadata": {},
   "outputs": [],
   "source": [
    "df_sunny$Year<-NULL\n",
    "df_sunny$Ref.<-NULL"
   ]
  },
  {
   "cell_type": "code",
   "execution_count": null,
   "metadata": {},
   "outputs": [],
   "source": [
    "df_temp<-read.csv('data/cities_temp.csv')\n",
    "head(df_temp)"
   ]
  },
  {
   "cell_type": "code",
   "execution_count": null,
   "metadata": {},
   "outputs": [],
   "source": [
    "df_temp$Year<-NULL\n",
    "df_temp$Ref.<-NULL"
   ]
  },
  {
   "cell_type": "code",
   "execution_count": null,
   "metadata": {},
   "outputs": [],
   "source": [
    "library(tidyverse)"
   ]
  },
  {
   "cell_type": "code",
   "execution_count": null,
   "metadata": {},
   "outputs": [],
   "source": [
    "get_celsius<-function(col){\n",
    "    as.numeric(gsub('−','-',gsub('\\\\(.*\\\\)','',col)))\n",
    "}"
   ]
  },
  {
   "cell_type": "code",
   "execution_count": null,
   "metadata": {},
   "outputs": [],
   "source": [
    "bind_cols(\n",
    "list(df_temp |> select(Country,City),\n",
    "df_temp |>\n",
    "  select(-Country,-City) |>\n",
    "  mutate_all(~get_celsius(.)) )\n",
    ") -> df_temp\n",
    "head(df_temp)"
   ]
  },
  {
   "cell_type": "code",
   "execution_count": null,
   "metadata": {},
   "outputs": [],
   "source": [
    "#https://rpubs.com/williamsurles/293454\n",
    "df_temp |> inner_join(df_sunny, by=c('Country','City'), suffix=c('_temp','_sun')) -> df_meteo\n",
    "rownames(df_meteo)<-paste(df_meteo$Country,df_meteo$City,sep = '-')\n",
    "df_meteo$City<-NULL\n",
    "df_meteo$Country<-NULL\n",
    "str(df_meteo)"
   ]
  },
  {
   "cell_type": "code",
   "execution_count": null,
   "metadata": {},
   "outputs": [],
   "source": [
    "pr_meteo<-prcomp(df_meteo,center = TRUE, scale = TRUE)\n",
    "plot(pr_meteo$sdev^2/sum(pr_meteo$sdev^2),main=\"Autovalores\")"
   ]
  },
  {
   "cell_type": "code",
   "execution_count": null,
   "metadata": {},
   "outputs": [],
   "source": [
    "plot(pr_meteo$x[,c(1,2)])\n",
    "\n",
    "city <- 'Spain-Barcelona'\n",
    "points(pr_meteo$x[rownames(pr_meteo$x)==city,1],\n",
    "       pr_meteo$x[rownames(pr_meteo$x)==city,2]\n",
    "       ,col='red', pch='*', cex=3)\n",
    "\n",
    "\n",
    "city <- 'Spain-Madrid'\n",
    "points(pr_meteo$x[rownames(pr_meteo$x)==city,1],\n",
    "       pr_meteo$x[rownames(pr_meteo$x)==city,2]\n",
    "       ,col='blue',pch='*',cex=3)\n",
    "\n",
    "\n",
    "city<-'United ArabEmirates-Dubai'\n",
    "points(pr_meteo$x[rownames(pr_meteo$x)==city,1],\n",
    "       pr_meteo$x[rownames(pr_meteo$x)==city,2]\n",
    "       ,col='green',pch='*',cex=3)\n",
    "\n",
    "city<-'Germany-Berlin'\n",
    "points(pr_meteo$x[rownames(pr_meteo$x)==city,1],\n",
    "       pr_meteo$x[rownames(pr_meteo$x)==city,2]\n",
    "       ,col='brown',pch='*',cex=3)\n",
    "\n",
    "\n",
    "city<-'Colombia-Bogotá'\n",
    "points(pr_meteo$x[rownames(pr_meteo$x)==city,1],\n",
    "       pr_meteo$x[rownames(pr_meteo$x)==city,2]\n",
    "       ,col='brown',pch='o',cex=3)"
   ]
  },
  {
   "cell_type": "code",
   "execution_count": null,
   "metadata": {},
   "outputs": [],
   "source": []
  },
  {
   "cell_type": "code",
   "execution_count": null,
   "metadata": {},
   "outputs": [],
   "source": [
    "library(\"FactoMineR\")"
   ]
  },
  {
   "cell_type": "code",
   "execution_count": null,
   "metadata": {},
   "outputs": [],
   "source": [
    "res.pca <- PCA(df_meteo )"
   ]
  },
  {
   "cell_type": "code",
   "execution_count": null,
   "metadata": {},
   "outputs": [],
   "source": [
    "head(res.pca$eig)"
   ]
  },
  {
   "cell_type": "code",
   "execution_count": null,
   "metadata": {},
   "outputs": [],
   "source": [
    "plot(res.pca$eig[,\"eigenvalue\"])"
   ]
  },
  {
   "cell_type": "code",
   "execution_count": null,
   "metadata": {},
   "outputs": [],
   "source": [
    "plot(res.pca, choix = \"ind\", autoLab = \"yes\")"
   ]
  },
  {
   "cell_type": "code",
   "execution_count": null,
   "metadata": {},
   "outputs": [],
   "source": [
    "plot(res.pca, choix = \"var\", autoLab = \"yes\")"
   ]
  },
  {
   "cell_type": "code",
   "execution_count": null,
   "metadata": {},
   "outputs": [],
   "source": [
    "pr_meteo$rotation[rownames(pr_meteo$rotation) \n",
    "                  %in% c('Jun_sun','Jul_sun','May_temp','Oct_temp')\n",
    "                  ,1:5]"
   ]
  },
  {
   "cell_type": "code",
   "execution_count": null,
   "metadata": {},
   "outputs": [],
   "source": [
    "pr_meteo$sdev[1:5]"
   ]
  },
  {
   "cell_type": "code",
   "execution_count": null,
   "metadata": {},
   "outputs": [],
   "source": [
    "res.pca$var$coord/pr_meteo$rotation[,1:5]"
   ]
  },
  {
   "cell_type": "code",
   "execution_count": null,
   "metadata": {},
   "outputs": [],
   "source": [
    "res.pca$var\n"
   ]
  },
  {
   "cell_type": "code",
   "execution_count": null,
   "metadata": {},
   "outputs": [],
   "source": [
    "#rowSums(res.pca$var$coord^2)\n",
    "res.pca$var$coord^2"
   ]
  },
  {
   "cell_type": "markdown",
   "metadata": {},
   "source": [
    "#### Ejemplo Iris\n",
    "\n",
    "Vamos a aplicar PCA al dataset de Iris"
   ]
  },
  {
   "cell_type": "code",
   "execution_count": null,
   "metadata": {},
   "outputs": [],
   "source": [
    "iris_data<-iris[,1:4]\n",
    "\n",
    "for (i in 1:ncol(iris_data)){     \n",
    "    mn<-mean(iris_data[,i],na.rm = T)\n",
    "    sd<-sd(iris_data[,i],na.rm = T)\n",
    "    \n",
    "    iris_data[,i]<-(iris_data[,i]-mn)/sd    \n",
    "}"
   ]
  },
  {
   "cell_type": "code",
   "execution_count": null,
   "metadata": {},
   "outputs": [],
   "source": [
    "#Utilizamos prcomp para calcular el pca\n",
    "priris<-prcomp(iris_data,center = FALSE, scale = FALSE)\n",
    "#Comprobamos que los dos primeros autovalores contienen aproximadamente el 90% de la varianza\n",
    "plot(priris$sdev^2/sum(priris$sdev^2),main=\"Autovalores\")"
   ]
  },
  {
   "cell_type": "code",
   "execution_count": null,
   "metadata": {},
   "outputs": [],
   "source": [
    "number_of_clusters<-3\n",
    "number_of_pca<-2\n",
    "my_clust<-kmeans(priris$x[,c(1:number_of_pca)],number_of_clusters)\n",
    "plot(priris$x[,c(1,2)],col=my_clust$cluster)\n",
    "text(x=my_clust$centers[,1], \n",
    "     y=my_clust$centers[,2], \n",
    "     cex=1, pos=4, labels=(1:nrow(my_clust$centers)),col=\"blue\")\n",
    "\n",
    "table(iris$Species,my_clust$cluster)"
   ]
  },
  {
   "cell_type": "code",
   "execution_count": null,
   "metadata": {},
   "outputs": [],
   "source": []
  },
  {
   "cell_type": "code",
   "execution_count": null,
   "metadata": {},
   "outputs": [],
   "source": [
    "library(dbscan)\n",
    "number_of_pca<-2\n",
    "#my_clust<-hdbscan(priris$x[,c(1:number_of_pca)],minPts=4)\n",
    "my_clust<-dbscan(priris$x[,c(1:number_of_pca)],minPts=5,eps=0.8)\n",
    "plot(priris$x[,c(1,2)],col=my_clust$cluster)\n",
    "table(iris$Species,my_clust$cluster)"
   ]
  },
  {
   "cell_type": "markdown",
   "metadata": {},
   "source": [
    "#### Ejemplo proteinas\n",
    "\n",
    "Vamos a aplicar PCA al dataset de proteinas"
   ]
  },
  {
   "cell_type": "code",
   "execution_count": null,
   "metadata": {},
   "outputs": [],
   "source": [
    "mouse<-read.csv(\"data/Data_Cortex_Nuclear.csv\")\n",
    "mouse_data<-mouse[,2:78]\n",
    "for (i in 1:ncol(mouse_data)){\n",
    "        \n",
    "    mn<-mean(mouse_data[,i],na.rm = T)\n",
    "    sd<-sd(mouse_data[,i],na.rm = T)\n",
    "    mouse_data[is.na(mouse_data[,i]),i]<-mn\n",
    "    \n",
    "    mouse_data[,i]<-(mouse_data[,i]-mn)/sd    \n",
    "}"
   ]
  },
  {
   "cell_type": "code",
   "execution_count": null,
   "metadata": {},
   "outputs": [],
   "source": [
    "#Utilizamos prcomp para calcular el pca\n",
    "prmouse_data<-prcomp(mouse_data,center = FALSE, scale = FALSE)\n",
    "#Comprobamos que los 20 primeros autovalores contienen aproximadamente el 90% de la varianza\n",
    "plot(cumsum(prmouse_data$sdev^2/sum(prmouse_data$sdev^2)),main=\"Autovalores\")\n",
    "grid()"
   ]
  },
  {
   "cell_type": "code",
   "execution_count": null,
   "metadata": {},
   "outputs": [],
   "source": [
    "head(mouse)"
   ]
  },
  {
   "cell_type": "code",
   "execution_count": null,
   "metadata": {},
   "outputs": [],
   "source": [
    "prmouse_data_pca<-as.data.frame(prmouse_data$x[,c(\"PC1\",\"PC2\",\"PC3\")])\n",
    "prmouse_data_pca$cl <- mouse[,\"class\"]\n",
    "prmouse_data_pca$Genotype <- mouse[,\"Genotype\"]\n",
    "prmouse_data_pca$Treatment <- mouse[,\"Treatment\"]\n",
    "library(ggplot2)\n",
    "ggplot(prmouse_data_pca,aes(x=PC2,y=PC3,color=Treatment))+geom_point()\n",
    "ggplot(prmouse_data_pca,aes(x=PC1,y=PC2,color=Genotype))+geom_point()"
   ]
  },
  {
   "cell_type": "markdown",
   "metadata": {},
   "source": [
    "Vamos a probar a hacer un *k-means* con solo dos dimensiones del PCA"
   ]
  },
  {
   "cell_type": "code",
   "execution_count": null,
   "metadata": {},
   "outputs": [],
   "source": [
    "mouse_data14<-prmouse_data$x[,1:2]\n",
    "q<-c()\n",
    "for (k in 1:20){\n",
    "    myclust<-kmeans(mouse_data14,k)\n",
    "    q[k]<-myclust$betweenss/myclust$totss\n",
    "}\n",
    "plot(q)"
   ]
  },
  {
   "cell_type": "code",
   "execution_count": null,
   "metadata": {},
   "outputs": [],
   "source": [
    "set.seed(123)\n",
    "myclustpca<-kmeans(mouse_data14,10)\n",
    "myclust<-kmeans(mouse_data,10)\n",
    "\n",
    "table(mouse$class,myclustpca$cluster)\n",
    "table(mouse$class,myclust$cluster)\n",
    "table(mouse$Behavior,myclustpca$cluster)\n",
    "table(mouse$Behavior,myclust$cluster)\n",
    "\n",
    "\n",
    "plot(prmouse_data$x[,c(1,2)],col=myclustpca$cluster)\n",
    "text(x=myclustpca$centers[,1], y=myclustpca$centers[,2], cex=1, pos=4, labels=(1:nrow(myclustpca$centers)),col=\"blue\")\n"
   ]
  },
  {
   "cell_type": "markdown",
   "metadata": {},
   "source": [
    "#### Ejemplo regresión logística con PCA - dataset Cancer\n",
    "\n",
    "https://archive.ics.uci.edu/ml/datasets/Breast+Cancer+Wisconsin+(Diagnostic)\n",
    "\n",
    "Este dataset muestra tejidos de diferentes tumores de mama. Algunos son benignos y otros malignos.\n",
    "\n",
    "Vamos a hacer un clasificador para diferenciarlos."
   ]
  },
  {
   "cell_type": "code",
   "execution_count": null,
   "metadata": {},
   "outputs": [],
   "source": [
    "library(pracma)\n",
    "library(dplyr)\n",
    "set.seed(1234)\n",
    "wdbc<-read.csv(\"data/wdbc.data\",col.names=c(\"id\",\"diagnosis\",paste0(\"c\",1:30)), stringsAsFactor=T)\n",
    "str(wdbc)"
   ]
  },
  {
   "cell_type": "code",
   "execution_count": null,
   "metadata": {},
   "outputs": [],
   "source": [
    "wdbc<-wdbc %>% select(-id)\n",
    "\n",
    "idx<-sample(1:nrow(wdbc),round(nrow(wdbc)*0.7))\n",
    "wdbc.train<-wdbc[idx,]\n",
    "wdbc.test<-wdbc[-idx,]"
   ]
  },
  {
   "cell_type": "code",
   "execution_count": null,
   "metadata": {},
   "outputs": [],
   "source": [
    "prwdbc<-prcomp(wdbc.train %>% select(-diagnosis),center = TRUE, scale. = TRUE)\n",
    "#Comprobamos que los 5 primeros autovalores contienen aproximadamente el 90% de la varianza\n",
    "plot(cumsum(prwdbc$sdev^2/sum(prwdbc$sdev^2)),main=\"Autovalores\")\n",
    "grid()"
   ]
  },
  {
   "cell_type": "code",
   "execution_count": null,
   "metadata": {},
   "outputs": [],
   "source": [
    "wdbc.train_pca <-as.data.frame(prwdbc$x[,1:2])\n",
    "wdbc.train_pca$diagnosis <- wdbc.train$diagnosis\n",
    "summary(wdbc.train_pca)"
   ]
  },
  {
   "cell_type": "code",
   "execution_count": null,
   "metadata": {},
   "outputs": [],
   "source": [
    "ggplot(wdbc.train_pca, aes(x=PC1, y=PC2, color=diagnosis))+geom_point()"
   ]
  },
  {
   "cell_type": "code",
   "execution_count": null,
   "metadata": {},
   "outputs": [],
   "source": [
    "model_wdbc<-glm(data=wdbc.train_pca,formula=diagnosis~.,family=binomial(link='logit')) \n",
    "summary(model_wdbc)"
   ]
  },
  {
   "cell_type": "code",
   "execution_count": null,
   "metadata": {},
   "outputs": [],
   "source": [
    "y_predict<-predict(model_wdbc,wdbc.train_pca)\n",
    "y_factor<-as.factor(ifelse(y_predict<0,\"B\",\"M\"))\n",
    "\n",
    "table(real=wdbc.train$diagnosis, pred=y_factor)"
   ]
  },
  {
   "cell_type": "code",
   "execution_count": null,
   "metadata": {},
   "outputs": [],
   "source": [
    "wdbc.test_pca <- as.data.frame(predict(prwdbc, wdbc.test %>% select(-diagnosis))[,c(\"PC1\",\"PC2\")])\n",
    "summary(wdbc.test_pca)"
   ]
  },
  {
   "cell_type": "code",
   "execution_count": null,
   "metadata": {},
   "outputs": [],
   "source": [
    "y_predict<-predict(model_wdbc,wdbc.test_pca)\n",
    "y_factor<-as.factor(ifelse(y_predict<0,\"B\",\"M\"))\n",
    "\n",
    "table(real=wdbc.test$diagnosis, pred=y_factor)"
   ]
  },
  {
   "cell_type": "code",
   "execution_count": null,
   "metadata": {},
   "outputs": [],
   "source": [
    "cf_m<-caret::confusionMatrix(data= y_factor, reference = wdbc.test$diagnosis,positive=\"M\")\n",
    "cf_m"
   ]
  },
  {
   "cell_type": "code",
   "execution_count": null,
   "metadata": {},
   "outputs": [],
   "source": [
    "paste(\"La precisión es:\",cf_m$table[2,2]/sum(cf_m$table[2,]))\n",
    "paste(\"La exhaustividad (recall, sensitivity) es:\",cf_m$table[2,2]/sum(cf_m$table[,2]))\n",
    "paste(\"La exactitud (accuracy) es:\",(cf_m$table[2,2]+cf_m$table[1,1])/sum(cf_m$table))\n",
    "\n",
    "bnt_test=binom.test(cf_m$table[2,2]+cf_m$table[1,1],sum(cf_m$table))\n",
    "paste(\"El intervalo de confianza de la exactitud es: [\",paste0(bnt_test$conf.int,collapse=\",\"),\"]\")\n"
   ]
  },
  {
   "cell_type": "code",
   "execution_count": null,
   "metadata": {},
   "outputs": [],
   "source": [
    "library(ROCR)\n",
    "\n",
    "p<-predict(model_wdbc,wdbc.test_pca,type=\"response\")\n",
    "\n",
    "pr <- prediction(p, wdbc.test$diagnosis)\n",
    "\n",
    "prf_auc=performance(pr, measure = \"auc\")\n",
    "paste(\"The AUC is\",prf_auc@y.values[[1]])\n",
    "\n",
    "\n",
    "prf <- performance(pr, measure = \"tpr\", x.measure = \"fpr\")\n",
    "plot(prf)"
   ]
  },
  {
   "cell_type": "code",
   "execution_count": null,
   "metadata": {},
   "outputs": [],
   "source": [
    "wdbc.train"
   ]
  },
  {
   "cell_type": "code",
   "execution_count": null,
   "metadata": {},
   "outputs": [],
   "source": [
    "model_wdbc_lin<-glm(data=wdbc.train,formula=diagnosis~.,family=binomial(link='logit')) \n",
    "summary(model_wdbc_lin)"
   ]
  },
  {
   "cell_type": "code",
   "execution_count": null,
   "metadata": {},
   "outputs": [],
   "source": [
    "y_predict<-predict(model_wdbc_lin,wdbc.train)\n",
    "y_factor<-as.factor(ifelse(y_predict<0,\"B\",\"M\"))\n",
    "\n",
    "table(real=wdbc.train$diagnosis, pred=y_factor)"
   ]
  },
  {
   "cell_type": "code",
   "execution_count": null,
   "metadata": {},
   "outputs": [],
   "source": [
    "y_predict<-predict(model_wdbc_lin,wdbc.test)\n",
    "y_factor<-as.factor(ifelse(y_predict<0,\"B\",\"M\"))\n",
    "\n",
    "table(real=wdbc.test$diagnosis, pred=y_factor)"
   ]
  }
 ],
 "metadata": {
  "kernelspec": {
   "display_name": "R",
   "language": "R",
   "name": "ir"
  },
  "language_info": {
   "codemirror_mode": "r",
   "file_extension": ".r",
   "mimetype": "text/x-r-source",
   "name": "R",
   "pygments_lexer": "r",
   "version": "4.1.0"
  }
 },
 "nbformat": 4,
 "nbformat_minor": 2
}
