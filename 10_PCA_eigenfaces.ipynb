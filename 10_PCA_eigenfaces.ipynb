{
 "cells": [
  {
   "cell_type": "markdown",
   "metadata": {},
   "source": [
    "# Eigenfaces \n",
    "\n",
    "En este ejercicio vamos a ver como aplicar PCA al reconocimiento facial. Esta técnica originalmente desarrollada por Sirovich y Kirby se [publicó](http://www.face-rec.org/interesting-papers/General/ld.pdf) en 1987\n",
    "\n",
    "Vamos a descargarnos un dataset público con miles de imágenes de más de 5000 personas. Cada imagen tiene tiene una resolución de 250x250px y han sido colocadas de tal forma que la cara siempre se encuentra en la misma posición.\n",
    "\n",
    "Con esto vamos a hacer un algoritmo que nos diga si una foto pertenece a George W. Bush o no."
   ]
  },
  {
   "cell_type": "markdown",
   "metadata": {},
   "source": [
    "## 1. Descarga de datos\n",
    "\n",
    "Primero creamos el directorio donde se descargarán las imágenes.\n",
    "\n",
    "Después con la función `curl_download` descargamos la fotos comprimidas en formato tgz. Ocupa unos 233Mbytes.\n",
    "La imágenes descomprimidas ocuparán unos 289Mbytes."
   ]
  },
  {
   "cell_type": "code",
   "execution_count": null,
   "metadata": {},
   "outputs": [],
   "source": [
    "ext_dir<-'data/faces'\n",
    "dir.create(ext_dir)"
   ]
  },
  {
   "cell_type": "code",
   "execution_count": null,
   "metadata": {},
   "outputs": [],
   "source": [
    "library(curl)\n",
    "out_file<-'data/faces/faces.tgz'\n",
    "curl_download('http://vis-www.cs.umass.edu/lfw/lfw-funneled.tgz',out_file,quiet=FALSE)"
   ]
  },
  {
   "cell_type": "code",
   "execution_count": null,
   "metadata": {},
   "outputs": [],
   "source": [
    "untar(out_file,exdir=ext_dir)"
   ]
  },
  {
   "cell_type": "code",
   "execution_count": null,
   "metadata": {},
   "outputs": [],
   "source": [
    "list.files(ext_dir)"
   ]
  },
  {
   "cell_type": "code",
   "execution_count": null,
   "metadata": {},
   "outputs": [],
   "source": [
    "ext_dir<-'data/faces'\n",
    "list.files(paste0(ext_dir,'/lfw_funneled'))"
   ]
  },
  {
   "cell_type": "code",
   "execution_count": null,
   "metadata": {},
   "outputs": [],
   "source": [
    "name<-'Serena_Williams'\n",
    "#name<-'David_Beckham'\n",
    "name<-'Jacques_Chirac'\n",
    "\n",
    "name<-'Colin_Powell'\n",
    "name<-'Donald_Rumsfeld'\n",
    "name<-'Gerhard_Schroeder'\n",
    "name<-'Tony_Blair'\n",
    "name<-'Jose_Maria_Aznar'\n",
    "name<-'Juan_Carlos'\n",
    "name<-'Ariel_Sharon'\n",
    "name<-'Hugo_Chavez'\n",
    "name<-'George_W_Bush'\n",
    "list.files(paste0(ext_dir,'/lfw_funneled/',name))"
   ]
  },
  {
   "cell_type": "markdown",
   "metadata": {},
   "source": [
    "### Ayuda:\n",
    "\n",
    "Desde Jupyter también podemos abrir un Terminal y ejecutar los comandos directamente desde la consola.\n",
    "Para ello hay que ir a: http://localhost:8888/tree y desde ahí: New -> Terminal"
   ]
  },
  {
   "cell_type": "markdown",
   "metadata": {},
   "source": [
    "## 2. Carga de imágenes\n",
    "\n",
    "Vamos a usar la librería `jgpeg` para cargar las imágenes.\n",
    "\n",
    "Creamos una función que convierte las imágenes de color a blanco y negro."
   ]
  },
  {
   "cell_type": "code",
   "execution_count": null,
   "metadata": {},
   "outputs": [],
   "source": [
    "library(jpeg)"
   ]
  },
  {
   "cell_type": "code",
   "execution_count": null,
   "metadata": {},
   "outputs": [],
   "source": [
    "get_pic<-function(name,id,root_path=ext_dir,bw=FALSE){    \n",
    "    img <- tryCatch(\n",
    "        readJPEG(paste0(root_path,'/lfw_funneled/',name,'/',name,'_',sprintf('%04d',id),'.jpg')),\n",
    "        error=function(e) return(NULL))\n",
    "    if (!is.null(img) && bw){\n",
    "        img<-(img[,,1]+img[,,2]+img[,,3])/3\n",
    "    }\n",
    "    img\n",
    "}"
   ]
  },
  {
   "cell_type": "code",
   "execution_count": null,
   "metadata": {},
   "outputs": [],
   "source": [
    "img <- get_pic('Tony_Blair',id=2,bw=TRUE,root_path=ext_dir)\n",
    "paste(\"Dimesiones:\",paste0(dim(img),collapse = 'x'))\n",
    "paste(\"Tipo:\",class(img))\n",
    "\n",
    "options(repr.plot.height=4,repr.plot.width=4)\n",
    "plot(1:2, type='n')\n",
    "rasterImage(img, 1, 1, 2,2)"
   ]
  },
  {
   "cell_type": "code",
   "execution_count": null,
   "metadata": {},
   "outputs": [],
   "source": [
    "dim(img)<-c(1,250*250)\n",
    "dim(img)"
   ]
  },
  {
   "cell_type": "code",
   "execution_count": null,
   "metadata": {},
   "outputs": [],
   "source": [
    "hist(img)"
   ]
  },
  {
   "cell_type": "markdown",
   "metadata": {},
   "source": [
    "## 3. Transformación de imágenes\n",
    "\n",
    "Convertimos la matriz de todas las imágenes de 250x250 en 1x62500\n",
    "\n",
    "Cargamos todas las imágenes de George W. Bush y de otros personajes, y las guardamos en un array de $N\\times62500$\n",
    "\n",
    "A continuación dividimos esa matriz en dos, una para entrenamiento y otra para testing."
   ]
  },
  {
   "cell_type": "code",
   "execution_count": null,
   "metadata": {},
   "outputs": [],
   "source": [
    "img<-rbind(img,img)\n",
    "dim(img)"
   ]
  },
  {
   "cell_type": "code",
   "execution_count": null,
   "metadata": {},
   "outputs": [],
   "source": [
    "get_all_pics_for<-function(name){\n",
    "    i<-0        \n",
    "    list_imgs<-list()\n",
    "    repeat{\n",
    "        i<-i+1\n",
    "        img <- get_pic(name,id=i,bw=TRUE)\n",
    "        if(is.null(img)){\n",
    "            break\n",
    "        }\n",
    "        dim(img)<-c(1,250*250)\n",
    "        list_imgs[[i]]<-img\n",
    "    }    \n",
    "    do.call(\"rbind\", list_imgs)\n",
    "}"
   ]
  },
  {
   "cell_type": "code",
   "execution_count": null,
   "metadata": {},
   "outputs": [],
   "source": [
    "name<-'George_W_Bush'\n",
    "pics_bush<-get_all_pics_for(name)\n",
    "dim(pics_bush)"
   ]
  },
  {
   "cell_type": "code",
   "execution_count": null,
   "metadata": {},
   "outputs": [],
   "source": [
    "pics_other<-get_all_pics_for('Ariel_Sharon')\n",
    "for (name in c('Jose_Maria_Aznar','Hugo_Chavez','Tony_Blair','Colin_Powell',\n",
    "               'Donald_Rumsfeld','Vladimir_Putin','Junichiro_Koizumi','Arnold_Schwarzenegger')){\n",
    "    imgs<-get_all_pics_for(name)\n",
    "    pics_other<-rbind(pics_other,imgs)\n",
    "}\n",
    "dim(pics_other)"
   ]
  },
  {
   "cell_type": "code",
   "execution_count": null,
   "metadata": {},
   "outputs": [],
   "source": [
    "set.seed(1)\n",
    "idx_bush<-sample(1:nrow(pics_bush),0.7*nrow(pics_bush),)\n",
    "train_bush<-pics_bush[idx_bush,]\n",
    "test_bush <-pics_bush[-idx_bush,]\n",
    "\n",
    "idx_other<-sample(1:nrow(pics_other),0.7*nrow(pics_other),)\n",
    "train_other<-pics_other[idx_other,]\n",
    "test_other <-pics_other[-idx_other,]"
   ]
  },
  {
   "cell_type": "code",
   "execution_count": null,
   "metadata": {},
   "outputs": [],
   "source": [
    "train_matrix<-rbind(train_bush,train_other)\n",
    "dim(train_matrix)\n",
    "\n",
    "test_matrix <-rbind(test_bush,  test_other)\n",
    "dim(test_matrix)\n"
   ]
  },
  {
   "cell_type": "code",
   "execution_count": null,
   "metadata": {},
   "outputs": [],
   "source": [
    "rownames(train_matrix)<-c(rep(\"bush\",nrow(train_bush)),rep(\"other\",nrow(train_other)))\n",
    "rownames(test_matrix)<-c(rep(\"bush\",nrow(test_bush)),rep(\"other\",nrow(test_other)))"
   ]
  },
  {
   "cell_type": "code",
   "execution_count": null,
   "metadata": {},
   "outputs": [],
   "source": [
    "train_matrix[sample(1:nrow(train_matrix),10),1:10]"
   ]
  },
  {
   "cell_type": "markdown",
   "metadata": {},
   "source": [
    "![](img/Eigenfaces.png)"
   ]
  },
  {
   "cell_type": "code",
   "execution_count": null,
   "metadata": {},
   "outputs": [],
   "source": [
    "plot_row_image<-function(row){\n",
    "    img<-matrix(row,ncol = sqrt(length(row)))\n",
    "    plot(1:2, type='n')\n",
    "    rasterImage(img, 1, 1, 2,2)\n",
    "}\n",
    "plot_row_image(train_matrix[380,])"
   ]
  },
  {
   "cell_type": "markdown",
   "metadata": {},
   "source": [
    "## 4. Aplicamos PCA\n",
    "\n",
    "Sobre la matriz de $train$ aplicamos PCA.\n",
    "\n",
    "El resultado debería ser una matriz con 62500 autovectores de dimensión 62500. Pero dado que el número de fotos en training es de solo 947 (menor de 62500), los autovalores correspondientes a los autovectores desde 948 hasta 62500 son 0. Por ese motivo solo habra 947 autovectores de dimensión 62500.\n",
    "\n",
    "#### Mejoras de R\n",
    "\n",
    "Aquí estamos trabajando con matrices muy grandes y R por defecto es monohilo. Pero para acelerar operaciones de álgegra lineal se puede aprovechar de las librerías BLAS. Las teneis para\n",
    "* windows: https://mran.microsoft.com/open\n",
    "* Linux/Mac: https://github.com/xianyi/OpenBLAS\n",
    "    * En sistemas tipo debian basta con instalar la libreria `libopenblas-dev`: apt-get install libopenblas-dev\n"
   ]
  },
  {
   "cell_type": "code",
   "execution_count": null,
   "metadata": {},
   "outputs": [],
   "source": [
    "pr_pics<-prcomp(train_matrix,center = TRUE, scale. = TRUE)"
   ]
  },
  {
   "cell_type": "markdown",
   "metadata": {},
   "source": [
    "Partimos de la matriz original de training con 947 imágenes:\n",
    "\\\\[\n",
    "A=\\begin{bmatrix}\n",
    "0.1 & 0.6 & \\cdots  & 0.1 \\\\ \n",
    "0 & 0.2 & \\cdots & 0.5 \\\\ \n",
    "\\vdots  &  & \\ddots  & \\vdots \\\\ \n",
    "0.3 & 0.7  & \\cdots & 0.1\n",
    "\\end{bmatrix} \\in \\mathbb{R}^{947\\times62500} \\Rightarrow estandarizamos ~ \\frac{x-\\mu}{\\sigma} \\Rightarrow  covariaza \\Rightarrow \\begin{bmatrix}\n",
    "0.05 & 0.06 & \\cdots  & 0.03 \\\\ \n",
    "0.07 & 0.03 & \\cdots & 0.01 \\\\ \n",
    "\\vdots  &  & \\ddots  & \\vdots \\\\ \n",
    "0.02 & 0.08  & \\cdots & 0.021\n",
    "\\end{bmatrix}_{62500\\times62500} \n",
    "\\\\]\n",
    "\n",
    "Calculamos los autovectores y autovalores de la matriz de covarianza.\n",
    "\n",
    "Tendremos 62500 autovalores:\n",
    "\\\\[\n",
    "\\lambda=\\begin{bmatrix}\n",
    "118 & 59.6 & 55.8 & \\cdots & 1 & 0.9 & 1e-14 & 0 & \\cdots & 0 \n",
    "\\end{bmatrix}_{1 \\times 62500}\n",
    "\\\\]\n",
    "De los cuales solo los 947 primeros tendrán un valor superior a 0. Con lo cual podemos simplificar como:\n",
    "\\\\[\n",
    "\\lambda=\\begin{bmatrix}\n",
    "118 & 59.6 & 55.8 & \\cdots & 1 & 0.9 & 1e-14 \n",
    "\\end{bmatrix}_{1 \\times 947}\n",
    "\\\\]\n",
    "\n",
    "Si tenemos 947 autovalores no nulos, solo necesitaremos los correspondientes 947 autovectores:\n",
    "\n",
    "\\\\[\n",
    "V=\\begin{bmatrix}\n",
    "0.002516356\t& 0.0005953821& \\cdots  & 0.0060715542 \\\\ \n",
    "0.002536501\t& 0.0006830596 & \\cdots  & 0.0495874353 \\\\\n",
    "\\vdots     &               & \\ddots  & \\vdots \\\\ \n",
    "0.001588527 &\t-0.0003561657 & \\cdots & -0.0005549179\n",
    "\\end{bmatrix}_{62500\\times 947}\n",
    "\\\\]"
   ]
  },
  {
   "cell_type": "code",
   "execution_count": null,
   "metadata": {},
   "outputs": [],
   "source": [
    "str(pr_pics)"
   ]
  },
  {
   "cell_type": "code",
   "execution_count": null,
   "metadata": {},
   "outputs": [],
   "source": [
    "# Matriz de autovalores\n",
    "pr_pics$sdev[1:10]"
   ]
  },
  {
   "cell_type": "code",
   "execution_count": null,
   "metadata": {},
   "outputs": [],
   "source": [
    "# Matriz de autovectores\n",
    "pr_pics$rotation[sample(1:nrow(pr_pics$rotation),5),1:10]"
   ]
  },
  {
   "cell_type": "markdown",
   "metadata": {},
   "source": [
    "### Transformando en el dominio PC\n",
    "\n",
    "Podemos transformar una imagen en sus componentes principales multiplicándo por la matrix de autovectores el vector imagen estandarizado:\n",
    "\n",
    "Dada una imagen convertida en un vector A_i:\n",
    "\\\\[\n",
    "A_i=\\begin{bmatrix}\n",
    "0.1 & 0.6 & & 0.5 \\cdots  & 0.1 \\\\ \n",
    "\\end{bmatrix}_{[1 \\times 62500]}\n",
    "\\\\]\n",
    "\n",
    "Calculamos su valor estandarizado:\n",
    "\\\\[\n",
    "A_{ij}'=\\frac{A_{ij}-\\mu_{j}}{\\sigma_j}\n",
    "\\\\]\n",
    "Donde:\n",
    "\\\\[\n",
    "\\mu_j=\\frac{\\sum_i^n{A_{ij}}}{n}\n",
    "\\\\]\n",
    "\\\\[\n",
    "\\sigma^2_j=\\frac{\\sum_i^n ({A_{ij}-\\mu_j})^2}{n}\n",
    "\\\\]\n",
    "\n",
    "Después calculamos la matrix de componentes principales multiplicando $A' \\times V$:\n",
    "\\\\[\n",
    "A_{PC} = A'_{947\\times62500} \\times V_{62500\\times947} \\in \\mathbb{R}^{947\\times947}\n",
    "\\\\]\n",
    "\n"
   ]
  },
  {
   "cell_type": "code",
   "execution_count": null,
   "metadata": {},
   "outputs": [],
   "source": [
    "#Matrix de componentes principales\n",
    "dim(pr_pics$x)"
   ]
  },
  {
   "cell_type": "code",
   "execution_count": null,
   "metadata": {},
   "outputs": [],
   "source": [
    "#pr_pics$x[sample(1:nrow(pr_pics$x),5),1:10]\n",
    "pr_pics$x[1,1:10]"
   ]
  },
  {
   "cell_type": "code",
   "execution_count": null,
   "metadata": {},
   "outputs": [],
   "source": [
    "pic_pca<-(matrix((train_matrix[1,]-pr_pics$center)/pr_pics$scale,nrow=1) %*% pr_pics$rotation)\n",
    "pic_pca[1:10]\n",
    "dim(pic_pca)"
   ]
  },
  {
   "cell_type": "code",
   "execution_count": null,
   "metadata": {},
   "outputs": [],
   "source": [
    "predict(pr_pics, newdata = train_matrix[1:2,])[1:2,1:10]"
   ]
  },
  {
   "cell_type": "markdown",
   "metadata": {},
   "source": [
    "### Transformando de vuelta al dominio de las imágenes\n",
    "\n",
    "\n",
    "Dada la matriz de componentes principales, podemos obtener la matriz original **sin nigún perdida de información** si multiplicamos por la inversa de la matriz de autovectores.\n",
    "\n",
    "La matriz de autovectores es una matriz ortonormal. Eso significa que la transpuesta es su propia inversa ya que:\n",
    "\\\\[\n",
    "V \\times V^T=I\n",
    "\\\\]\n",
    "Así pues:\n",
    "\n",
    "\\\\[\n",
    "A_{PC_{947\\times947}} = A'_{947\\times62500} \\times V_{62500\\times947} \\\\\n",
    "A_{PC_{947\\times947}} \\times V^T_{947\\times62500} = A'_{947\\times62500} \\times V_{62500\\times947} \\times V^T_{947\\times62500} \\\\\n",
    "A_{PC_{947\\times947}} \\times V^T_{947\\times62500} = A'_{947\\times62500} \\times I_{62500\\times62500}\\\\\n",
    "A_{PC_{947\\times947}} \\times V^T_{947\\times62500} = A'_{947\\times62500}\n",
    "\\\\]\n",
    "\n",
    "Es decir, el vector que contiene la imagen original normalizada se puede obtener como:\n",
    "\\\\[\n",
    "A'=A_{PC} \\times V^T\n",
    "\\\\]\n",
    "\n",
    "Después desnormalizamos $A'$ para volver al vector original de la imagen:\n",
    "\\\\[\n",
    "A_{ij}=(A'_{ij}+\\mu_{j})·\\sigma_j\n",
    "\\\\]\n",
    "\n"
   ]
  },
  {
   "cell_type": "code",
   "execution_count": null,
   "metadata": {},
   "outputs": [],
   "source": [
    "recover_pic<-(pic_pca %*% t(pr_pics$rotation))*pr_pics$scale+pr_pics$center\n",
    "summary(array(recover_pic))\n",
    "#El valor de un pixel siempre está entre 0 y 1, errores en el redondeo hace que a veces esto no se cumpla. \n",
    "recover_pic[recover_pic<0]<-0\n",
    "recover_pic[recover_pic>1]<-1\n",
    "dim(recover_pic)"
   ]
  },
  {
   "cell_type": "markdown",
   "metadata": {},
   "source": [
    "En este proceso se producen errores de rendodeo. Es por eso que deben ser ajustados y limitar el rango de la imagen a [0,1] La codificación de los números en binario se hace siguiendo el estandar [IEEE 754](https://en.wikipedia.org/wiki/IEEE_754)\n",
    "\n",
    "![](https://upload.wikimedia.org/wikipedia/commons/thumb/d/d2/Float_example.svg/590px-Float_example.svg.png)"
   ]
  },
  {
   "cell_type": "code",
   "execution_count": null,
   "metadata": {},
   "outputs": [],
   "source": [
    "bin2dec <- function(binaryvector) {\n",
    "  sum(2^(which(rev(binaryvector))-1))\n",
    "}\n",
    "fracbin2dec <- function(frac) {\n",
    "  sum(2^(-which(frac)))\n",
    "}\n",
    "xp<-c(F,T,T,T,T,T,F,F)\n",
    "frac<-c(F,T,F,F,F,F,F,F,F,F,F,F,F,F,F,F,F,F,F,F,F,F,F)\n",
    "\n",
    "2^(bin2dec(xp)-127)*(1+fracbin2dec(frac))"
   ]
  },
  {
   "cell_type": "code",
   "execution_count": null,
   "metadata": {},
   "outputs": [],
   "source": [
    "#Comprobamos que hemos podido recuperar la imagen original\n",
    "plot_row_image(recover_pic)"
   ]
  },
  {
   "cell_type": "markdown",
   "metadata": {},
   "source": [
    "### Importancia de los autovectores\n",
    "\n",
    "Podemos pintar el valor de los autovectores. Recordemos los autovectores representan la desviación típica de la muestra de datos en la dirección marcada por su correspondiente autovector.\n",
    "\n",
    "Si ordenamos los autovalores por su valor veremos como la mayor parte de la variación se encuentra en los primeros autovalores. El resto aportan cada vez menos información."
   ]
  },
  {
   "cell_type": "code",
   "execution_count": null,
   "metadata": {},
   "outputs": [],
   "source": [
    "plot(log10(pr_pics$sdev),t='l',ylim = c(0,2))"
   ]
  },
  {
   "cell_type": "code",
   "execution_count": null,
   "metadata": {},
   "outputs": [],
   "source": [
    "t_pic<-matrix(rep(0,ncol(pr_pics$rotation)),nrow=1)\n",
    "#t_pic[1]<-1\n",
    "#t_pic[1:50]<-1\n",
    "t_pic[100]<-1\n",
    "\n",
    "\n",
    "pic_normalizada<-t_pic %*% t(pr_pics$rotation)\n",
    "summary(array(pic_normalizada))\n",
    "pic_normalizada<-(pic_normalizada-min(pic_normalizada))\n",
    "pic_normalizada<-pic_normalizada/max(pic_normalizada)\n",
    "plot_row_image(pic_normalizada)"
   ]
  },
  {
   "cell_type": "markdown",
   "metadata": {},
   "source": [
    "Una vez que tenemos una imagen transformada con sus componentes principales podemos borrar los que corresponen a autovalores con menor peso.\n",
    "\n",
    "De esta forma estaremos perdiendo información, pero la mínima posible, con lo cual la reconstrucción posterior de la imagen seguirá siendo posible, aunque con perdidas.\n",
    "\n",
    "Se puede demostrar que para las imágenes del conjunto de train, si las pasamos al dominio de PCA, eliminamos los componentes menos importantes y las volvemos a transformar al dominio de las imágenes. Estas habrán sufrido una perdida de información mínima, es una compresión con perdidas muy eficiente.\n",
    "\n",
    "Pero es más, si utilizamos una imagen de test y aplicamos el mismo proceso, aunque el resultado no será tan bueno, también veremos como es suficientemente bueno. Este método se puede utilizar para comprimir imágenes que comparten características comunes."
   ]
  },
  {
   "cell_type": "code",
   "execution_count": null,
   "metadata": {},
   "outputs": [],
   "source": [
    "# Por motivos didácticos crearemos una función similar a predict:\n",
    "transform_pca<-function(pca_result=pr_pics,row){\n",
    "    v <-matrix(row,nrow=1)\n",
    "    v_normalizada<- (v-pca_result$center)/pca_result$scale\n",
    "    v_normalizada %*% pca_result$rotation    \n",
    "}\n",
    "\n",
    "# Y una función que haga su inversa:\n",
    "inv_transform_pca<-function(pca_result=pr_pics,row){\n",
    "    v <-matrix(row,nrow=1)    \n",
    "    pic_normalizada<-v %*% t(pca_result$rotation)\n",
    "    pic<-pic_normalizada*pca_result$scale+pca_result$center\n",
    "    pic[pic<0]<-0\n",
    "    pic[pic>1]<-1\n",
    "    pic\n",
    "}"
   ]
  },
  {
   "cell_type": "code",
   "execution_count": null,
   "metadata": {},
   "outputs": [],
   "source": [
    "orig_pic<-train_matrix[100,]\n",
    "orig_pic<-test_matrix[300,]\n",
    "\n",
    "number_of_pca_components<-400\n",
    "t_pic<-transform_pca(row=orig_pic)\n",
    "t_pic[number_of_pca_components:length(t_pic)]<-0\n",
    "dim(t_pic)\n",
    "\n",
    "pic<-inv_transform_pca(row=t_pic)\n",
    "plot_row_image(pic)\n",
    "plot_row_image(orig_pic)"
   ]
  },
  {
   "cell_type": "markdown",
   "metadata": {},
   "source": [
    "Recordemos que el PCA trabaja con valores centrados en 0 y desviación típica 1. Por eso hemos normalizado.\n",
    "\n",
    "Los coeficientes del PCA simplemente dicen cuanto se desplaza el valore real respecto a la media en las direcciones de máxima dispersión. Es así como se consigue la compresión.\n",
    "\n",
    "Si nos fijamos en la media de todas las caras, vemos que parece una cara, lo que guardaríamos en el PCA es la diferencia de una cara respecto a otra."
   ]
  },
  {
   "cell_type": "code",
   "execution_count": null,
   "metadata": {},
   "outputs": [],
   "source": [
    "plot_row_image(pr_pics$center)"
   ]
  },
  {
   "cell_type": "code",
   "execution_count": null,
   "metadata": {},
   "outputs": [],
   "source": [
    "mean_face<-colSums(train_matrix)/nrow(train_matrix)\n",
    "plot_row_image(mean_face)"
   ]
  },
  {
   "cell_type": "markdown",
   "metadata": {},
   "source": [
    "## 5. Clasificación usando PCA\n",
    "\n",
    "Ya tenemos todos componentes principales de las imágenes. Estos componentes principales están alineados con la dirección de máxima varianza.\n",
    "\n",
    "Así pues podemos construir un clasificador fijándonos únicamente en los primeros componentes principales. La imagen que más se acerque tendrá más posibilidades de ser de la misma persona."
   ]
  },
  {
   "cell_type": "code",
   "execution_count": null,
   "metadata": {},
   "outputs": [],
   "source": [
    "number_of_pca_components<-200\n",
    "\n",
    "id_test_pic<-300\n",
    "#id_test_pic<-200\n",
    "id_test_pic<-30\n",
    "\n",
    "orig_pic<-test_matrix[id_test_pic,]\n",
    "\n",
    "t_pic<-transform_pca(row=orig_pic)\n",
    "t_pic<-matrix(t_pic[1:number_of_pca_components],nrow=1)"
   ]
  },
  {
   "cell_type": "code",
   "execution_count": null,
   "metadata": {},
   "outputs": [],
   "source": [
    "Apc<-pr_pics$x[,1:number_of_pca_components]\n",
    "dist<-rep(NA,nrow(Apc))\n",
    "for (i in 1:nrow(Apc)){\n",
    "    dist[i]<-sum((t_pic-Apc[i,])^2)\n",
    "}\n",
    "# Equivalente a:\n",
    "#dist<-rowSums((t_pic[rep(1, times = nrow(pr_pics$x)), ]-pr_pics$x)^2)"
   ]
  },
  {
   "cell_type": "code",
   "execution_count": null,
   "metadata": {},
   "outputs": [],
   "source": [
    "#El clasificador dice que la foto más parecida es esta:\n",
    "which.min(dist)"
   ]
  },
  {
   "cell_type": "code",
   "execution_count": null,
   "metadata": {},
   "outputs": [],
   "source": [
    "plot_row_image(train_matrix[which.min(dist),])\n",
    "plot_row_image(orig_pic)"
   ]
  },
  {
   "cell_type": "code",
   "execution_count": null,
   "metadata": {},
   "outputs": [],
   "source": [
    "paste(\"La imagen es de:\",\n",
    "rownames(test_matrix)[id_test_pic],\n",
    "      \"el clasificador dice que es de:\",\n",
    "      rownames(train_matrix)[which.min(dist)])\n",
    "      "
   ]
  },
  {
   "cell_type": "markdown",
   "metadata": {},
   "source": [
    "## K-nearest neighbor\n",
    "\n",
    "Esto es equivalente a un KNN con N=1\n",
    "![](https://upload.wikimedia.org/wikipedia/commons/thumb/e/e7/KnnClassification.svg/220px-KnnClassification.svg.png)\n",
    "\n",
    "\n",
    "Calculemos la matriz de confianza."
   ]
  },
  {
   "cell_type": "code",
   "execution_count": null,
   "metadata": {},
   "outputs": [],
   "source": [
    "number_of_pca_components<-200\n",
    "\n",
    "result<-data.frame(real=rownames(test_matrix),pred=NA, stringsAsFactors = T)\n",
    "Apc<-pr_pics$x[,1:number_of_pca_components]\n",
    "\n",
    "for (id_test_pic in 1:nrow(test_matrix)){\n",
    "\n",
    "    orig_pic<-test_matrix[id_test_pic,]\n",
    "\n",
    "    t_pic<-transform_pca(row=orig_pic)[,1:number_of_pca_components]\n",
    "    t_pic<-matrix(t_pic,nrow=1)\n",
    "        \n",
    "    dist<-rowSums((t_pic[rep(1, times = nrow(Apc)), ]-Apc)^2)    \n",
    "    \n",
    "    result$pred[id_test_pic]<-rownames(train_matrix)[which.min(dist)]\n",
    "}"
   ]
  },
  {
   "cell_type": "code",
   "execution_count": null,
   "metadata": {},
   "outputs": [],
   "source": [
    "result$pred=as.factor(result$pred)\n",
    "str(result)"
   ]
  },
  {
   "cell_type": "code",
   "execution_count": null,
   "metadata": {},
   "outputs": [],
   "source": [
    "library(caret)"
   ]
  },
  {
   "cell_type": "code",
   "execution_count": null,
   "metadata": {},
   "outputs": [],
   "source": [
    "confusionMatrix(data = result$pred, reference= result$real)"
   ]
  },
  {
   "cell_type": "code",
   "execution_count": null,
   "metadata": {},
   "outputs": [],
   "source": [
    "sum(result$real==\"bush\")"
   ]
  },
  {
   "cell_type": "code",
   "execution_count": null,
   "metadata": {},
   "outputs": [],
   "source": [
    "sum(result$pred==\"bush\")"
   ]
  },
  {
   "cell_type": "code",
   "execution_count": null,
   "metadata": {},
   "outputs": [],
   "source": [
    "# Más información de como obtener esas figuras:\n",
    "# https://www.rdocumentation.org/packages/caret/versions/6.0-85/topics/confusionMatrix\n",
    "Pra<-sum(result$real==result$pred)/nrow(result)\n",
    "\n",
    "paste(\"Accuracy:\",sum(result$real==result$pred)/nrow(result))\n",
    "Pr_bush<-sum(result$real==\"bush\")/nrow(result)\n",
    "Pr_other<-sum(result$real==\"other\")/nrow(result)\n",
    "Pd_bush<-sum(result$pred==\"bush\")/nrow(result)\n",
    "Pd_other<-sum(result$pred==\"other\")/nrow(result)\n",
    "\n",
    "Pre<-Pr_bush*Pd_bush+Pr_other*Pd_other\n",
    "paste(\"Kappa:\",(Pra-Pre)/(1-Pre))\n",
    "\n",
    "paste(\"Sensibilidad:\",sum(result$pred==\"bush\" & result$real==\"bush\")/sum(result$real==\"bush\"))\n",
    "paste(\"Especifidad:\",sum(result$pred==\"other\" & result$real==\"other\")/sum(result$real==\"other\"))\n",
    "paste(\"Pr pred:\",sum(result$pred==\"bush\" & result$real==\"bush\")/sum(result$pred==\"bush\"))"
   ]
  },
  {
   "cell_type": "code",
   "execution_count": null,
   "metadata": {},
   "outputs": [],
   "source": [
    "number_of_pca_components<-100\n",
    "knn<-6\n",
    "\n",
    "result<-data.frame(real=rownames(test_matrix),pred=NA)\n",
    "Apc<-pr_pics$x[,1:number_of_pca_components]\n",
    "\n",
    "for (id_test_pic in 1:nrow(test_matrix)){\n",
    "\n",
    "    orig_pic<-test_matrix[id_test_pic,]\n",
    "\n",
    "    t_pic<-transform_pca(row=orig_pic)[,1:number_of_pca_components]\n",
    "    t_pic<-matrix(t_pic,nrow=1)\n",
    "        \n",
    "    dist<-rowSums((t_pic[rep(1, times = nrow(Apc)), ]-Apc)^2)    \n",
    "    \n",
    "    knn_tags<-rownames(train_matrix)[order(dist,decreasing = F) %in% c(1:knn)]\n",
    "    \n",
    "    #most_common_name<-names(sort(table(knn_tags),decreasing = T))[1]\n",
    "    most_common_name<-names(which.max(table(knn_tags)))\n",
    "    \n",
    "    result$pred[id_test_pic]<-most_common_name\n",
    "}"
   ]
  },
  {
   "cell_type": "code",
   "execution_count": null,
   "metadata": {},
   "outputs": [],
   "source": [
    "most_common_name"
   ]
  },
  {
   "cell_type": "code",
   "execution_count": null,
   "metadata": {},
   "outputs": [],
   "source": [
    "result$pred=as.factor(result$pred)\n",
    "confusionMatrix(table(result$pred,result$real))"
   ]
  },
  {
   "cell_type": "code",
   "execution_count": null,
   "metadata": {},
   "outputs": [],
   "source": [
    "result$pred=as.factor(result$pred)\n",
    "confusionMatrix(table(result$pred,result$real))"
   ]
  },
  {
   "cell_type": "markdown",
   "metadata": {},
   "source": [
    "## Cluster"
   ]
  },
  {
   "cell_type": "code",
   "execution_count": null,
   "metadata": {},
   "outputs": [],
   "source": [
    "A<-pr_pics$x[,1:200]\n",
    "\n",
    "d <- dist(A,method = \"euclidean\")\n",
    "hc <- hclust(d,method=\"average\")\n",
    "hcd <- as.dendrogram(hc)\n",
    "plot(hcd)\n",
    "table(rownames(A),cutree(hc,h=350))"
   ]
  },
  {
   "cell_type": "code",
   "execution_count": null,
   "metadata": {},
   "outputs": [],
   "source": [
    "library(dbscan)\n",
    "cl <- hdbscan(pr_pics$x[,1:3], minPts = 10,gen_hdbscan_tree=TRUE)\n",
    "cl"
   ]
  },
  {
   "cell_type": "code",
   "execution_count": null,
   "metadata": {},
   "outputs": [],
   "source": [
    "plot(cl)"
   ]
  },
  {
   "cell_type": "code",
   "execution_count": null,
   "metadata": {},
   "outputs": [],
   "source": [
    "table(cl$cluster,rownames(pr_pics$x))"
   ]
  },
  {
   "cell_type": "code",
   "execution_count": null,
   "metadata": {},
   "outputs": [],
   "source": [
    "which(cl$cluster==3)"
   ]
  },
  {
   "cell_type": "code",
   "execution_count": null,
   "metadata": {},
   "outputs": [],
   "source": [
    "plot_row_image(train_matrix[405,])"
   ]
  },
  {
   "cell_type": "markdown",
   "metadata": {},
   "source": [
    "### Regresión logistica\n",
    "\n",
    "Podemos mejorar el algoritmo, en lugar de usar un KNN podemos usar una regresión logistica sobre los componenetes principales más importantes."
   ]
  },
  {
   "cell_type": "code",
   "execution_count": null,
   "metadata": {},
   "outputs": [],
   "source": [
    "number_of_pca_components<-150\n",
    "df_train<-data.frame(pr_pics$x[,1:number_of_pca_components])\n",
    "df_train$name<-as.factor(rownames(pr_pics$x))\n",
    "head(df_train)"
   ]
  },
  {
   "cell_type": "code",
   "execution_count": null,
   "metadata": {},
   "outputs": [],
   "source": [
    "model<-glm(df_train,formula=\"name~.\",family=binomial)\n",
    "summary(model)"
   ]
  },
  {
   "cell_type": "code",
   "execution_count": null,
   "metadata": {},
   "outputs": [],
   "source": [
    "summary(model$fitted.values)"
   ]
  },
  {
   "cell_type": "code",
   "execution_count": null,
   "metadata": {},
   "outputs": [],
   "source": [
    "confusionMatrix(data=as.factor(ifelse(model$fitted.values<00.5,'bush','other')),                \n",
    "                reference=df_train$name)"
   ]
  },
  {
   "cell_type": "code",
   "execution_count": null,
   "metadata": {},
   "outputs": [],
   "source": [
    "test_pics_pca<-predict(pr_pics,test_matrix)\n",
    "df_test<-data.frame(test_pics_pca[,1:number_of_pca_components])\n",
    "df_test$name<-as.factor(rownames(test_pics_pca))\n",
    "head(df_test)"
   ]
  },
  {
   "cell_type": "code",
   "execution_count": null,
   "metadata": {},
   "outputs": [],
   "source": [
    "pred_test_glm <- predict(model,df_test)\n",
    "head(pred_test_glm)"
   ]
  },
  {
   "cell_type": "code",
   "execution_count": null,
   "metadata": {},
   "outputs": [],
   "source": [
    "df_result<-data.frame(real=df_test$name,\n",
    "                      pred=pred_test_glm,row.names = NULL)"
   ]
  },
  {
   "cell_type": "code",
   "execution_count": null,
   "metadata": {},
   "outputs": [],
   "source": [
    "summary(df_result)"
   ]
  },
  {
   "cell_type": "code",
   "execution_count": null,
   "metadata": {},
   "outputs": [],
   "source": [
    "df_result$pred_name<-as.factor(ifelse(df_result$pred<0,'bush','other'))\n",
    "confusionMatrix(data=df_result$pred_name,reference=df_result$real)"
   ]
  },
  {
   "cell_type": "code",
   "execution_count": null,
   "metadata": {},
   "outputs": [],
   "source": [
    "library(ROCR)\n",
    "\n",
    "#Con type=\"response\" utilizamos la salida de la link function, \n",
    "# pasa por la función sigmoidal (inversa de logit) y devuelve un valor en el rango [0,1] \n",
    "df_result$p<-predict(model,df_test,type=\"response\")\n",
    "\n",
    "pr <- prediction(df_result$p, df_test$name)\n",
    "prf <- performance(pr, measure = \"tpr\", x.measure = \"fpr\")\n",
    "plot(prf)"
   ]
  },
  {
   "cell_type": "code",
   "execution_count": null,
   "metadata": {},
   "outputs": [],
   "source": [
    "prf <- performance(pr, measure = \"prec\", x.measure = \"rec\")\n",
    "plot(prf)"
   ]
  },
  {
   "cell_type": "code",
   "execution_count": null,
   "metadata": {},
   "outputs": [],
   "source": [
    "performance(pr, measure = \"auc\")@y.values"
   ]
  },
  {
   "cell_type": "markdown",
   "metadata": {},
   "source": [
    "![](img/Eigenfaces_flujo_modelos.png)"
   ]
  },
  {
   "cell_type": "markdown",
   "metadata": {},
   "source": [
    "#### Ejemplo con regularización"
   ]
  },
  {
   "cell_type": "code",
   "execution_count": null,
   "metadata": {},
   "outputs": [],
   "source": [
    "number_of_pca_components<-150\n",
    "df_train<-data.frame(pr_pics$x[,1:number_of_pca_components])\n",
    "df_train$name<-as.factor(rownames(pr_pics$x))\n",
    "head(df_train)"
   ]
  },
  {
   "cell_type": "code",
   "execution_count": null,
   "metadata": {},
   "outputs": [],
   "source": [
    "#model<-glm(df_train,formula=\"name~.\",family=binomial)\n",
    "\n",
    "cvfit<-glmnetUtils::cv.glmnet(name~.,\n",
    "                              family = \"binomial\",\n",
    "                              data=df_train,nfolds=10,alpha=1)\n",
    "plot(cvfit)"
   ]
  },
  {
   "cell_type": "code",
   "execution_count": null,
   "metadata": {},
   "outputs": [],
   "source": [
    "test_pics_pca<-predict(pr_pics,test_matrix)\n",
    "df_test<-data.frame(test_pics_pca[,1:number_of_pca_components])\n",
    "df_test$name<-as.factor(rownames(test_pics_pca))"
   ]
  },
  {
   "cell_type": "code",
   "execution_count": null,
   "metadata": {},
   "outputs": [],
   "source": [
    "p<-predict(cvfit,newdata=df_test,s=cvfit$lambda.min)\n",
    "\n",
    "pr <- prediction(p, df_test$name)\n",
    "prf_auc=performance(pr, measure = \"auc\")\n",
    "paste(\"The AUC is\",prf_auc@y.values[[1]])"
   ]
  },
  {
   "cell_type": "code",
   "execution_count": null,
   "metadata": {},
   "outputs": [],
   "source": [
    "df_result$pred_name<-as.factor(ifelse(p<0,'bush','other'))\n",
    "confusionMatrix(table(df_result$pred_name,df_result$real))"
   ]
  },
  {
   "cell_type": "code",
   "execution_count": null,
   "metadata": {},
   "outputs": [],
   "source": [
    "coef(cvfit,s=cvfit$lambda.min)"
   ]
  },
  {
   "cell_type": "code",
   "execution_count": null,
   "metadata": {},
   "outputs": [],
   "source": []
  }
 ],
 "metadata": {
  "kernelspec": {
   "display_name": "R",
   "language": "R",
   "name": "ir"
  },
  "language_info": {
   "codemirror_mode": "r",
   "file_extension": ".r",
   "mimetype": "text/x-r-source",
   "name": "R",
   "pygments_lexer": "r",
   "version": "4.1.0"
  }
 },
 "nbformat": 4,
 "nbformat_minor": 2
}
