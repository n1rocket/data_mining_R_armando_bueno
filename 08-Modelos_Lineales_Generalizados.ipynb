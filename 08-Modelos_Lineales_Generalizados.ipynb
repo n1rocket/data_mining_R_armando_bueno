{
 "cells": [
  {
   "cell_type": "markdown",
   "metadata": {},
   "source": [
    "# Modelo lineal generalizado\n",
    "\n",
    "La regresión lineal tradicional buscamos resolver la ecuación:\n",
    "\n",
    "\\\\[\n",
    "\\hat{Y}=X \\hat{\\beta}\n",
    "\\\\]\n",
    "\n",
    "Encontrando el valor de $\\hat{\\beta}$ que mejor encaja con las muestras observadas.\n",
    "\n",
    "En una regresión lineal hacemos las siguientes suposiciones:\n",
    "1. Que la relación entre las variables sea lineal.\n",
    "2. Que los errores en la medición de $X_k$ sean independientes entre sí.\n",
    "3. Que los errores sigan una distribución normal de media 0 y varianza constante\n"
   ]
  },
  {
   "cell_type": "markdown",
   "metadata": {},
   "source": [
    "### Distribución Gausiana\n",
    "\n",
    "Es el modelo que hemos estado viendo hasta ahora. \n",
    "Su función de densidad de probabilidad es:\n",
    "\\\\[\n",
    "P(y\\;|\\;\\mu ,\\sigma )={\\frac {1}{\\sqrt {2\\pi \\sigma ^{2}}}}\\;e^{-{\\frac {(y-\\mu )^{2}}{2\\sigma ^{2}}}}\n",
    "\\\\]\n",
    "\n",
    "Trataremos de encontrar una función tal que:\n",
    "\\\\[\n",
    "\\mu=\\hat{y}=\\beta·x\n",
    "\\\\]\n",
    "manteniendo siempre la varianza $\\sigma^2$ constante."
   ]
  },
  {
   "cell_type": "markdown",
   "metadata": {},
   "source": [
    "#### Interpretación de los coeficientes \n",
    "\n",
    "\\\\[\n",
    "\\hat y=\\beta_0+\\beta_1 · x_1+\\beta_2 · x_2...\n",
    "\\\\]"
   ]
  },
  {
   "cell_type": "markdown",
   "metadata": {},
   "source": [
    "#### Estimador máxima verosimilitud\n",
    "Se tratará de modificar los valores de $\\beta$ para que la siguiente función sea máxima:\n",
    "\\\\[\n",
    "MLE=\\mathcal {L}(\\beta)=p(y_1,....y_n| x_1,....,x_n;\\beta)=\\prod_{i=1}^n {\\frac { exp(-(y_i-\\mu )^{2}/(2\\sigma ^2) )}{\\sqrt {2\\pi \\sigma ^{2}}}}=\\prod_{i=1}^n {\\frac { exp(-(y_i-x_i·\\beta )^{2}/(2\\sigma ^2) )}{\\sqrt {2\\pi \\sigma ^{2}}}}\n",
    "\\\\]\n",
    "\\\\[\n",
    "\\mathcal {L}(\\beta)=\\left({\\frac {1}{2\\pi \\sigma ^{2}}}\\right)^{n/2}\\exp \\left(-{\\frac {\\sum _{i=1}^{n}(y_{i}-x_i·\\beta )^{2}}{2\\sigma ^{2}}}\\right),\n",
    "\\\\]\n",
    "\n",
    "Para simplificar pasamos a logaritmos:\n",
    "\\\\[\n",
    "\\ln {\\Big (}{\\mathcal {L}}(\\beta ){\\Big )}=-{\\frac {\\,n\\,}{2}}\\ln(2\\pi \\sigma ^{2})-{\\frac {1}{2\\sigma ^{2}}}\\sum _{i=1}^{n}(\\,y_{i}-x_i·\\beta \\,)^{2}\n",
    "\\\\]\n",
    "\n",
    "Si suponemos que la **varianza es constante** (no depende de $x_i$), maximizar el estimador de máxima verosimilitud (MLE o $\\mathcal {L}$ ) es equivalente a minimizar la suma de residuos al cuadrado (RSS):\n",
    "\\\\[\n",
    "RSS=\\sum _{i=1}^{n}(\\,y_{i}-x_i·\\beta \\,)^{2}\n",
    "\\\\]\n",
    "Recordemos que el error cuadrádico medio (MSE) sería:\n",
    "\\\\[\n",
    "MSE=\\frac{RSS}{n}\n",
    "\\\\]"
   ]
  },
  {
   "cell_type": "code",
   "execution_count": null,
   "metadata": {},
   "outputs": [],
   "source": [
    "set.seed(123)\n",
    "x<-rep(c(-10,-5,-1,2,5,10),10)\n",
    "y<-sapply(x,function(xi) rnorm(1,mean=xi*5+3,sd=10))\n",
    "df<-data.frame(y,x)"
   ]
  },
  {
   "cell_type": "code",
   "execution_count": null,
   "metadata": {},
   "outputs": [],
   "source": [
    "model<-glm(data=df,formula=y~x,family=gaussian())\n",
    "summary(model)"
   ]
  },
  {
   "cell_type": "code",
   "execution_count": null,
   "metadata": {},
   "outputs": [],
   "source": [
    "x_lin<-seq(-10,10,length.out = 20)\n",
    "y_est<-model$coefficient[1]+model$coefficient[2]*x_lin\n",
    "y_real<-5*x_lin+3\n",
    "\n",
    "options(repr.plot.height=4,repr.plot.width=6,repr.plot.res = 200)\n",
    "\n",
    "plot(x_lin,y_real,t='l')\n",
    "lines(x_lin,y_est,col=\"red\")"
   ]
  },
  {
   "cell_type": "code",
   "execution_count": null,
   "metadata": {},
   "outputs": [],
   "source": [
    "df$pred_lin  <-x*model$coefficients[2]+model$coefficients[1]\n",
    "df$pred_model<-predict(model,df)"
   ]
  },
  {
   "cell_type": "code",
   "execution_count": null,
   "metadata": {},
   "outputs": [],
   "source": [
    "head(df)"
   ]
  },
  {
   "cell_type": "markdown",
   "metadata": {},
   "source": [
    "### AIC\n",
    "\n",
    "El criterio de información de Akaike (AIC) es un estimador de la calidad relativa del modelo que tiene en cuenta su complejidad.\n",
    "\n",
    "A medida que se aumenta el número de parámetros de entrada o de grados de un polinomio el valor de $R^2$ va a ser mejor porque el error cuadrático medio disminuye. El AIC penaliza los modelos complejos en favor del los sencillos para evitar el sobreajuste.\n",
    "\n",
    "Se calcula a partir del log-likelihood, el logaritmo del estimador de máxima verosimilitud:\n",
    "\n",
    "\\\\[\n",
    "AIC = 2·P-2·ln\\left( \\mathcal {L} \\right)\n",
    "\\\\]\n",
    "\n",
    "En el caso de una regresión lineal:\n",
    "\\\\[\n",
    "\\ln {\\Big (}{\\mathcal {L}}(\\beta ){\\Big )}=-{\\frac {\\,n\\,}{2}}\\ln(2\\pi \\sigma ^{2})-{\\frac {1}{2\\sigma ^{2}}}\\sum _{i=1}^{n}(\\,y_{i}-x_i·\\beta \\,)^{2}\n",
    "\\\\]\n",
    "Una vez que el modelo está entrenado, resulta que:\n",
    "\\\\[\n",
    "\\sigma ^{2} = MSE = \\frac{1}{n} \\sum _{i=1}^{n}(\\,y_{i}-x_i·\\beta· \\,)^{2}=n·RSS\n",
    "\\\\]\n",
    "\n",
    "\\\\[\n",
    "\\ln {\\Big (}{\\mathcal {L}}(\\beta ){\\Big )}=-{\\frac {\\,n\\,}{2}}\\ln \\left( 2\\pi \\frac{RSS}{n} \\right)-{\\frac {n}{2·RSS}}·RSS\n",
    "\\\\]\n",
    "Si sustituimos en la ecuación de AIC:\n",
    "\\\\[\n",
    "AIC = 2·P+2·{\\frac {\\,n\\,}{2}}\\ln \\left( 2\\pi \\frac{RSS}{n} \\right)-{\\frac {n}{2}}=2·P+n·\\ln \\left(\\frac{RSS}{n} \\right)-{\\frac {n}{2}}+n·\\ln(2\\pi)\n",
    "\\\\]\n",
    "\\\\[\n",
    "AIC = 2·P+n·\\ln \\left(\\frac{RSS}{n} \\right)+C\n",
    "\\\\]\n",
    "Como el valor de AIC realmente solo se utiliza para comparar un modelo con otro, el termino constante C se puede ignorar porque no cambia entre los modelos.\n",
    "\\\\[\n",
    "AIC = 2·P+n·\\ln \\left(\\frac{RSS}{n} \\right)\n",
    "\\\\]\n",
    "El valor P es el número de coeficientes del modelo más 1. Y el AIC suele multiplicar P por 2, pero otros valores son posibles en función del a importancia que queramos dar a los parámetros extra."
   ]
  },
  {
   "cell_type": "code",
   "execution_count": null,
   "metadata": {},
   "outputs": [],
   "source": [
    "k_val=2\n",
    "AIC(model,k=k_val)"
   ]
  },
  {
   "cell_type": "code",
   "execution_count": null,
   "metadata": {},
   "outputs": [],
   "source": [
    "rss<-sum((model$residuals)^2)\n",
    "n<-nrow(df)"
   ]
  },
  {
   "cell_type": "code",
   "execution_count": null,
   "metadata": {},
   "outputs": [],
   "source": [
    "loglik<- -n/2*log(2*pi*rss/n)-n/2"
   ]
  },
  {
   "cell_type": "code",
   "execution_count": null,
   "metadata": {},
   "outputs": [],
   "source": [
    "-2*loglik+k_val*(length(model$coefficients)+1)"
   ]
  },
  {
   "cell_type": "code",
   "execution_count": null,
   "metadata": {},
   "outputs": [],
   "source": [
    "model$coefficients"
   ]
  },
  {
   "cell_type": "code",
   "execution_count": null,
   "metadata": {},
   "outputs": [],
   "source": [
    "model_lin<-lm(data=df,formula=y~1)\n",
    "summary(model_lin)"
   ]
  },
  {
   "cell_type": "code",
   "execution_count": null,
   "metadata": {},
   "outputs": [],
   "source": [
    "AIC(model_lin)"
   ]
  },
  {
   "cell_type": "code",
   "execution_count": null,
   "metadata": {},
   "outputs": [],
   "source": [
    "rss<-sum((model_lin$residuals)^2)\n",
    "n<-nrow(df)\n",
    "loglik<- -n/2*log(2*pi*rss/n)-n/2\n",
    "-2*loglik+2*(length(model_lin$coefficients)+1)"
   ]
  },
  {
   "cell_type": "code",
   "execution_count": null,
   "metadata": {},
   "outputs": [],
   "source": [
    "length(model_lin$coefficients)"
   ]
  },
  {
   "cell_type": "markdown",
   "metadata": {},
   "source": [
    "## ¿Qué ocurre cuando los errores no siguen una distribución normal?\n",
    "\n",
    "En la ecuación anterior el valor de Y se supone que va entre $[-\\infty,\\infty]$, pero si tratamos de predecir un valor binario: Si/No o el número personas que circulan por una calle nos salimos de ese rango.\n",
    "\n",
    "Es en estos casos cuando utilizamos modelos lineales generalizados. Utilizamos una función de enlace $g(y)$ (link function) que transforma los resultados:\n",
    "\\\\[\n",
    "g\\left(\\hat{Y}\\right)=X \\hat{\\beta}\n",
    "\\\\]\n",
    "\n",
    "Su inversa sería $g^{-1}()$ :\n",
    "\\\\[\n",
    "\\hat{Y}=g^{-1}\\left(X \\hat{\\beta}\\right)\n",
    "\\\\]\n"
   ]
  },
  {
   "cell_type": "markdown",
   "metadata": {},
   "source": [
    "### Distribución bernuilli y binomial\n",
    "\n",
    "#### Bernuilli\n",
    "La distribución de Bernuilli es una distribución discreta que puede tomar dos valores uno con probabilidad $p$ y otro $q=1-p$. Se utiliza para describir sucesos que solo tienen dos posibles resultados como Si/No, 1/0 o Cara/Cruz.\n",
    "\n",
    "Estimadores **media** ($\\mu$) y **varianza** ($\\sigma^2$):\n",
    "\\\\[\n",
    "\\mu=p \\qquad\n",
    "\\sigma^2=p·q=p·(1-p)\n",
    "\\\\]"
   ]
  },
  {
   "cell_type": "markdown",
   "metadata": {},
   "source": [
    "La función de densidad de probabilidad se puede representar como:\n",
    "\\\\[\n",
    "f(k;p)=\\left\\{ \n",
    "\\begin{matrix} \n",
    "p & \\text{si  } k=1 \\\\  \n",
    "1-p & \\text{si  } k=0 \n",
    "\\end{matrix}\n",
    "\\right.\n",
    "\\\\]\n",
    "donde $k$ solo admite dos posibles valores $k \\in \\left\\{0,1 \\right\\}$.\n",
    "\n",
    "Esta formula también se puede expresar como:\n",
    "\\\\[\n",
    "Pr_{Bernoulli}(k)=p^k(1-p)^{1-k} \\qquad k \\in \\left\\{0,1 \\right\\}.\n",
    "\\\\]\n",
    "\n",
    "La distribución de Bernoulli es un caso especial de la **distribución binomial** con n=1."
   ]
  },
  {
   "cell_type": "markdown",
   "metadata": {},
   "source": [
    "#### Binomial\n",
    "\n",
    "Si tenemos $n$ sucesos independientes que siguen una distribución de Bernoulli, ¿cual es la probabilidad de que $k$ sucesos sean positivos?. \n",
    "\n",
    "Al tener $k$ sucesos donde $k \\in \\left\\{0,1,2,...,n \\right\\}$, la función será la de Bernoulli multiplicada por el coeficiente binomial que acabamos de ver:\n",
    "\\\\[\n",
    "Pr(k)=\\binom{n}{k}p^k(1-p)^{n-k}\n",
    "\\\\]"
   ]
  },
  {
   "cell_type": "markdown",
   "metadata": {},
   "source": [
    "#### Función enlace - Logit\n",
    "\n",
    "Tenemos que forzar a la regresión lineal al rango $[0,1]$. Esto lo podemos conseguir con la función con la función \n",
    "**función logística** o **sigmoide**:\n",
    "\\\\[\n",
    "p=\\hat{y}=g^{-1}(x·\\hat{\\beta})=\\frac{1}{1+e^{-x·\\hat{\\beta}}}\n",
    "\\\\]\n",
    "Su inversa se conoce como la función **logit**:\n",
    "\\\\[\n",
    "x·\\hat{\\beta}=g(\\hat{y})= log \\left( \\frac{\\hat{y}}{1-\\hat{y}} \\right)=log \\left( \\frac{p}{1-p} \\right)\n",
    "\\\\]\n",
    "\n",
    "De donde sacábamos que la solución de la regresión lineal era el logaritmo de la razón de monomios: $log \\left( \\frac{p}{1-p} \\right)$\n"
   ]
  },
  {
   "cell_type": "code",
   "execution_count": null,
   "metadata": {},
   "outputs": [],
   "source": [
    "options(repr.plot.height=4,repr.plot.width=6)\n",
    "\n",
    "y<-seq(-10,10,length.out = 100)\n",
    "xb<-1/(1+exp(-y))\n",
    "plot(y,xb,t=\"l\")"
   ]
  },
  {
   "cell_type": "markdown",
   "metadata": {},
   "source": [
    "#### Interpretación de los coeficientes \n",
    "\n",
    "\\\\[\n",
    "log(Odds)=log \\left(\\frac{p}{1-p} \\right)=\\beta_0+\\beta_1 · x_1+\\beta_2 · x_2+...\n",
    "\\\\]\n",
    "\\\\[\n",
    "\\frac{p}{1-p}=e^{\\beta_0}·e^{\\beta_1 · x_1}·e^{\\beta_2 · x_2}·...\n",
    "\\\\]"
   ]
  },
  {
   "cell_type": "markdown",
   "metadata": {},
   "source": [
    "#### Estimador máxima verosimilitud\n",
    "\n",
    "##### Bernuilli\n",
    "Se tratará de modificar los valores de $\\beta$ para que la siguiente función sea máxima:\n",
    "\\\\[\n",
    "MLE=\\mathcal {L}(\\beta)=p(y_1,....y_n| x_1,....,x_n;\\beta)=\\prod_{i=1}^n {p^{y_{i}}(1-p)^{1-y_i}}\n",
    "\\\\]\n",
    "\n",
    "Para simplificar pasamos a logaritmos:\n",
    "\\\\[\n",
    "\\log {\\Big (}{\\mathcal {L}}(\\beta ){\\Big )}=\\sum_{i=1}^n {y_{i}·log(p)+(1-y_i)·log (1-p)}=\\\\\n",
    "=\\sum_{i=1}^n {y_{i}·log(p)-y_i·log (1-p)+log(1-p)}=\\\\\n",
    "=\\sum_{i=1}^n {y_{i}·log \\left( \\frac{p}{1-p} \\right)+log(1-p)}=\\\\\n",
    "=\\sum_{i=1}^n {y_{i}·(\\beta_0+\\beta_1 · x_{i1}+\\beta_2 · x_{i2}+...)+log\\left(1-\\frac{1}{1+e^{-(\\beta_0+\\beta_1 · x_{i1}+\\beta_2 · x_{i2}+...)}}\\right)}\n",
    "\\\\]\n",
    "\n",
    "\n",
    "##### Binomial\n",
    "Se tratará de modificar los valores de $\\beta$ para que la siguiente función sea máxima:\n",
    "\\\\[\n",
    "MLE=\\mathcal {L}(\\beta)=p(y_1,....y_n| x_1,....,x_n;\\beta)=\\prod_{i=1}^n \\binom{n}{y_i} {p^{y_{i}}(1-p)^{1-y_i}}\n",
    "\\\\]\n",
    "\n",
    "Para simplificar pasamos a logaritmos:\n",
    "\\\\[\n",
    "\\log {\\Big (}{\\mathcal {L}}(\\beta ){\\Big )}=\\sum_{i=1}^n log \\binom{n}{y_i} +{y_{i}·log(p)+(1-y_i)·log (1-p)}\n",
    "\\\\]\n",
    "\n"
   ]
  },
  {
   "cell_type": "markdown",
   "metadata": {},
   "source": [
    "#### Ejemplo Bernuillli"
   ]
  },
  {
   "cell_type": "code",
   "execution_count": null,
   "metadata": {},
   "outputs": [],
   "source": [
    "set.seed(123)\n",
    "x<-rep(c(rep(0.2,3),rep(0.4,2),rep(0.1,6)),10)\n",
    "y<-sapply(x,function(xi) rbinom(1,size=1,prob=xi*2+0.1))\n",
    "df<-data.frame(y,x)\n",
    "#df"
   ]
  },
  {
   "cell_type": "code",
   "execution_count": null,
   "metadata": {},
   "outputs": [],
   "source": [
    "model_bernuilli<-glm(data=df,formula=y~x,family=binomial)\n",
    "summary(model_bernuilli)"
   ]
  },
  {
   "cell_type": "code",
   "execution_count": null,
   "metadata": {},
   "outputs": [],
   "source": [
    "options(repr.plot.height=4,repr.plot.width=6,repr.plot.res = 200)\n",
    "\n",
    "x_lin<-seq(0,0.4,length.out = 20)\n",
    "\n",
    "prob_real<-x_lin*2+0.1\n",
    "log_odds_real<-log(prob_real/(1-prob_real))\n",
    "plot(x_lin,log_odds_real,t='l')\n",
    "\n",
    "\n",
    "log_odds_est<-model_bernuilli$coefficient[1]+model_bernuilli$coefficient[2]*x_lin\n",
    "#log_odds_est<-predict(model_bernuilli,data.frame(x=x_lin))\n",
    "\n",
    "lines(x_lin,log_odds_est,col=\"red\")\n"
   ]
  },
  {
   "cell_type": "code",
   "execution_count": null,
   "metadata": {},
   "outputs": [],
   "source": [
    "x_lin<-seq(0,0.4,length.out = 20)\n",
    "\n",
    "prob_real<-x_lin*2+0.1\n",
    "plot(x_lin,prob_real,t='l')\n",
    "\n",
    "\n",
    "log_odds_est<-model_bernuilli$coefficient[1]+model_bernuilli$coefficient[2]*x_lin\n",
    "#prob_est<-exp(log_odds_est)/(1+exp(log_odds_est))\n",
    "#prob_est<-1/(1+exp(-log_odds_est))\n",
    "prob_est<-predict(model_bernuilli,data.frame(x=x_lin),type=\"response\")\n",
    "\n",
    "lines(x_lin,prob_est,col=\"red\")\n",
    "\n",
    "#abline(lm(data=df,formula=y~x),col='green')"
   ]
  },
  {
   "cell_type": "code",
   "execution_count": null,
   "metadata": {},
   "outputs": [],
   "source": [
    "xb<-df$x*model_bernuilli$coefficients[2]+model_bernuilli$coefficients[1]\n",
    "\n",
    "df$linear_model<-xb\n",
    "df$predict_result<-predict(model_bernuilli,df)\n",
    "df$prob<-1/(1+exp(-xb))\n",
    "#linear_model y predict_result son iguales. No son más que log(odds)"
   ]
  },
  {
   "cell_type": "code",
   "execution_count": null,
   "metadata": {},
   "outputs": [],
   "source": [
    "head(df,20)"
   ]
  },
  {
   "cell_type": "markdown",
   "metadata": {},
   "source": [
    "#### Ejemplo Binomial"
   ]
  },
  {
   "cell_type": "code",
   "execution_count": null,
   "metadata": {},
   "outputs": [],
   "source": [
    "library(\"dplyr\")\n",
    "df_count<-df[,c(\"x\",\"y\")] %>% group_by(x) %>% summarize(succeed=sum(y), fail=sum(1-y))\n",
    "df_count"
   ]
  },
  {
   "cell_type": "code",
   "execution_count": null,
   "metadata": {},
   "outputs": [],
   "source": [
    "model_binom<-glm(data=df_count,formula=cbind(succeed,fail)~x,family=binomial)\n",
    "summary(model_binom)"
   ]
  },
  {
   "cell_type": "code",
   "execution_count": null,
   "metadata": {},
   "outputs": [],
   "source": [
    "xb<-df_count$x*model_binom$coefficients[2]+model_binom$coefficients[1]\n",
    "df_count$linear_model<-xb\n",
    "df_count$predict_result<-predict(model_binom,df_count)\n",
    "df_count$prob<-1/(1+exp(-xb))\n",
    "df_count$prob_response<-predict(model_binom,df_count,type=\"response\")"
   ]
  },
  {
   "cell_type": "code",
   "execution_count": null,
   "metadata": {},
   "outputs": [],
   "source": [
    "df_count"
   ]
  },
  {
   "cell_type": "markdown",
   "metadata": {},
   "source": [
    "#### AIC \n",
    "\n",
    "El criterio de información de Akaike (AIC) es un estimador de la calidad relativa del modelo que tiene en cuenta su complejidad.\n",
    "\\\\[\n",
    "AIC = 2·P-2·ln\\left( \\mathcal {L} \\right)\n",
    "\\\\]"
   ]
  },
  {
   "cell_type": "markdown",
   "metadata": {},
   "source": [
    "##### Bernuilli\n",
    "\n",
    "\\\\[\n",
    "\\log {\\Big (}{\\mathcal {L}}(\\beta ){\\Big )}=\\sum_{i=1}^n {y_{i}·(\\beta_0+\\beta_1 · x_{i1}+\\beta_2 · x_{i2}+...)+log\\left(1-\\frac{1}{1+e^{-(\\beta_0+\\beta_1 · x_{i1}+\\beta_2 · x_{i2}+...)}}\\right)}\n",
    "\\\\]"
   ]
  },
  {
   "cell_type": "code",
   "execution_count": null,
   "metadata": {},
   "outputs": [],
   "source": [
    "AIC(model_bernuilli,k=2)"
   ]
  },
  {
   "cell_type": "code",
   "execution_count": null,
   "metadata": {},
   "outputs": [],
   "source": [
    "loglik<-sum(df$y*(df$x*model_bernuilli$coefficient[2]+model_bernuilli$coefficient[1]))+\n",
    "        sum(log(1-1/(1+exp(-(df$x*model_bernuilli$coefficient[2]+model_bernuilli$coefficient[1])))))"
   ]
  },
  {
   "cell_type": "code",
   "execution_count": null,
   "metadata": {},
   "outputs": [],
   "source": [
    "-2*loglik+2*length(model_bernuilli$coefficients)"
   ]
  },
  {
   "cell_type": "markdown",
   "metadata": {},
   "source": [
    "#### Binomial\n",
    "\n",
    "\\\\[\n",
    "\\log {\\Big (}{\\mathcal {L}}(\\beta ){\\Big )}=\\sum_{i=1}^n log \\binom{n}{y_i}+\\log {\\Big (}{\\mathcal {L}}(\\beta ){\\Big )}_{bernuilli}\n",
    "\\\\]\n"
   ]
  },
  {
   "cell_type": "code",
   "execution_count": null,
   "metadata": {},
   "outputs": [],
   "source": [
    "AIC(model_binom,k=2)"
   ]
  },
  {
   "cell_type": "code",
   "execution_count": null,
   "metadata": {},
   "outputs": [],
   "source": [
    "sum_binom_coef<- sum(log(apply(df_count,1,function(x) choose(x[\"succeed\"]+x[\"fail\"],x[\"succeed\"]))))     \n",
    "loglik_binomial<- sum_binom_coef+loglik"
   ]
  },
  {
   "cell_type": "code",
   "execution_count": null,
   "metadata": {},
   "outputs": [],
   "source": [
    "-2*loglik_binomial+2*length(model_binom$coefficients)"
   ]
  },
  {
   "cell_type": "code",
   "execution_count": null,
   "metadata": {},
   "outputs": [],
   "source": [
    "AIC(model_bernuilli)-AIC(model_binom)\n",
    "2*sum_binom_coef"
   ]
  },
  {
   "cell_type": "markdown",
   "metadata": {},
   "source": [
    "#### Función enlace - Probit\n",
    "\n",
    "Otra opción en lugar de usar la funcíon **logit**:\n",
    "\\\\[\n",
    "x·\\hat{\\beta}=g(\\hat{y})= log \\left( \\frac{\\hat{y}}{1-\\hat{y}} \\right)=log \\left( \\frac{p}{1-p} \\right)\n",
    "\\\\]\n",
    "\n",
    "es usar la función **probit**:\n",
    "\\\\[\n",
    "x·\\hat{\\beta}=\\Phi^{-1}(\\hat{y})\n",
    "\\\\]\n",
    "\n",
    "Donde:\n",
    "\n",
    "$\\Phi^{-1}(\\hat{y})$ es la inversa de la función acumulativa de probabilidad de una función normal de media 0 y varianza 1: $\\mathcal {N}(0,1)$\n",
    "\n",
    "\n",
    "De esta forma se podría considerar que la probabilidad de $y$ sigue una función normal: \n",
    "\\\\[\n",
    "\\hat{y}=\\Phi(x·\\hat{\\beta})\n",
    "\\\\]\n",
    "\n",
    "Así la probabilidad de que $y=1$ es:\n",
    "\\\\[\n",
    "Pr(\\hat{y_i}=1)=\\Phi(x_i·\\hat{\\beta})\n",
    "\\\\]\n",
    "\\\\[\n",
    "Pr(\\hat{y_i}=0)=1-\\Phi(x_i·\\hat{\\beta})\n",
    "\\\\]\n",
    "\n"
   ]
  },
  {
   "cell_type": "code",
   "execution_count": null,
   "metadata": {},
   "outputs": [],
   "source": [
    "options(repr.plot.height=4,repr.plot.width=6)\n",
    "\n",
    "y<-seq(-10,10,length.out = 100)\n",
    "x_logit<-1/(1+exp(-y))\n",
    "plot(y,x_logit,t=\"l\",col='red',ylab='X')\n",
    "x_probit<-pnorm(y)\n",
    "lines(y,x_probit,t=\"l\",col='blue')"
   ]
  },
  {
   "cell_type": "code",
   "execution_count": null,
   "metadata": {},
   "outputs": [],
   "source": [
    "set.seed(123)\n",
    "x<-rep(c(rep(0.2,3),rep(0.4,2),rep(0.1,6)),10)\n",
    "y<-sapply(x,function(xi) rbinom(1,size=1,prob=xi*2+0.1))\n",
    "df<-data.frame(y,x)"
   ]
  },
  {
   "cell_type": "code",
   "execution_count": null,
   "metadata": {},
   "outputs": [],
   "source": [
    "model_probit<-glm(data=df,formula=y~x,family=binomial('probit'))\n",
    "summary(model_probit)"
   ]
  },
  {
   "cell_type": "code",
   "execution_count": null,
   "metadata": {},
   "outputs": [],
   "source": [
    "model_logit<-glm(data=df,formula=y~x,family=binomial('logit'))\n",
    "summary(model_logit)"
   ]
  },
  {
   "cell_type": "code",
   "execution_count": null,
   "metadata": {},
   "outputs": [],
   "source": [
    "x_lin<-seq(0,0.4,length.out = 20)\n",
    "y_est_logit<-model_logit$coefficient[1]+model_logit$coefficient[2]*x_lin # log(odds)\n",
    "y_est_probit<-model_probit$coefficient[1]+model_probit$coefficient[2]*x_lin\n",
    "\n",
    "y_real<-x_lin*2+0.1 # probability\n",
    "\n",
    "log_odds_real<-log(y_real/(1-y_real)) #logit\n",
    "plot(x_lin,log_odds_real,t='l',col='red',ylab='y transformada')\n",
    "lines(x_lin,y_est_logit,col=\"red\",lty=2)\n",
    "\n",
    "probit=qnorm(y_real)\n",
    "lines(x_lin,probit,t='l',col='blue')\n",
    "lines(x_lin,y_est_probit,col=\"blue\",lty=2)"
   ]
  },
  {
   "cell_type": "code",
   "execution_count": null,
   "metadata": {},
   "outputs": [],
   "source": [
    "x_lin<-seq(0,0.4,length.out = 20)\n",
    "y_est_logit<-predict(model_logit,data.frame(x=x_lin),type=\"response\")\n",
    "y_est_probit<-predict(model_probit,data.frame(x=x_lin),type=\"response\")\n",
    "y_real<-x_lin*2+0.1 # probability\n",
    "\n",
    "plot(x_lin,y_real,t='l',col='gray')\n",
    "lines(x_lin,y_est_logit,t='l',col='red')\n",
    "lines(x_lin,y_est_probit,col=\"blue\")"
   ]
  },
  {
   "cell_type": "markdown",
   "metadata": {},
   "source": [
    "Los coeficientes de una regresión logísitca utilizando **logit** eran fáciles de interpretar, teniendo en cuenta que la regresión lineal daba simplemente el logaritmo de la razón de monomios.\n",
    "\\\\[\n",
    "log \\left(\\frac{p}{1-p} \\right)=\\hat{y}=\\beta_0+x_1·\\beta_1+x_2·\\beta_2+.......\n",
    "\\\\]\n",
    "\n",
    "Cada coeficiente (elevalo a $e$) simplemente aumenta de forma multiplicativa la razón de monomios:\n",
    "\\\\[\n",
    "\\frac{p}{1-p}=e^{\\beta_0}·e^{x_1·\\beta_1}·e^{x_2·\\beta_2}·.......\n",
    "\\\\]\n",
    "\n",
    "\n",
    "Pero en la regresión logística utilizando **probit** como función de enlace esto es más complicado, ya que los coeficientes cambian:\n",
    "\\\\[\n",
    "\\Phi^{-1}(\\hat{y})=\\beta_0+x_1·\\beta_1+x_2·\\beta_2+.......\n",
    "\\\\]\n",
    "Podrían ser interpretados como la diferencia en el z-score asociado con cada unidad de diferencia en la predicción de la variable."
   ]
  },
  {
   "cell_type": "markdown",
   "metadata": {},
   "source": [
    "## Distribución Poisson\n",
    "\n",
    "Tiene su origen en una distribución **binomial** a medida que $n \\rightarrow \\infty$ y $p \\rightarrow 0$, manteniendo $\\lambda=n·p$ constante.\n",
    "\n",
    "Esta distribución expresa la probabilidad de que un número de eventos dado ocurra en un intervalo de tiempo \n",
    "(o espacio) fijo si los eventos curren con una frecuencia constante y son independientes \n",
    "(no dependen de cuando ocurrió el último evento).\n",
    "\n",
    "Ejemplo: Número de llamadas que cursa una antena de telefonía móvil en una franja horaria.\n",
    "\n",
    "Estimadores **media** ($\\mu$) y **varianza** ($\\sigma^2$):\n",
    "\\\\[\n",
    "\\mu=\\lambda \\qquad\n",
    "\\sigma^2=\\lambda\n",
    "\\\\]\n",
    "\n",
    "Un evento puede ocurrir $k \\in \\left\\{0,1,2,3,... \\right\\}$ veces en un intervalo de tiempo dado. El número de ventos que ocurre en media se define con $\\lambda$. La probabilidad de observar $k$ eventos en un intervalo viene dado por la ecuación:\n",
    "\\\\[\n",
    "Pr(Y=k)=\\frac{\\lambda^k}{k!} e^{-\\lambda}=\\frac{e^{k·log(\\lambda)-\\lambda}}{k!} \n",
    "\\\\]\n"
   ]
  },
  {
   "cell_type": "markdown",
   "metadata": {},
   "source": [
    "#### Función enlace \n",
    "\n",
    "En este caso la regresión lineal ha de estar en el rango $[0,\\infty]$ porque no podrán existir conteos negativos. Esto lo podemos conseguir con la función con la exponencial:\n",
    "\\\\[\n",
    "\\lambda=\\hat{y}=g^{-1}(x·\\hat{\\beta})=e^{x·\\hat{\\beta}}\n",
    "\\\\]\n",
    "Su inversa, la **función de enlace**, es el logaritmo natural o neperiano:\n",
    "\\\\[\n",
    "x·\\hat{\\beta}=g(\\hat{y})= log \\left( \\hat{y} \\right)=log \\left( \\lambda \\right)\n",
    "\\\\]"
   ]
  },
  {
   "cell_type": "code",
   "execution_count": null,
   "metadata": {},
   "outputs": [],
   "source": [
    "options(repr.plot.height=4,repr.plot.width=6)\n",
    "\n",
    "y<-seq(-10,10,length.out = 100)\n",
    "xb<-exp(y)\n",
    "plot(y,xb,t=\"l\")"
   ]
  },
  {
   "cell_type": "markdown",
   "metadata": {},
   "source": [
    "#### Estimador máxima verosimilitud\n",
    "\n",
    "Se tratará de modificar los valores de $\\beta$ para que la siguiente función sea máxima:\n",
    "\n",
    "\\\\[\n",
    "MLE=p(y_1,....y_n| x_1,....,x_n;\\beta)=\\prod_{i=1}^n \\frac{e^{y_i·log(\\lambda)-\\lambda}}{y_i!} =\\prod_{i=1}^n \\frac{exp(y_i·\\beta·x_i-exp(\\beta·x_i))}{y_i!}\n",
    "\\\\]\n",
    "\n",
    "Para simplificar pasamos a logaritmos:\n",
    "\\\\[\n",
    "\\log {\\Big (}{\\mathcal {L}}(\\beta ){\\Big )}=\\sum_{i=1}^n y_i·\\beta·x_i-exp(\\beta·x_i)-log(y_i!)\n",
    "\\\\]\n"
   ]
  },
  {
   "cell_type": "markdown",
   "metadata": {},
   "source": [
    "#### Interpretación de los coeficientes \n",
    "\n",
    "\\\\[\n",
    "log \\left( \\lambda \\right)=\\beta_0+\\beta_1 · x_1+\\beta_2 · x_2+...\n",
    "\\\\]\n",
    "\\\\[\n",
    "\\lambda=e^{\\beta_0}·e^{\\beta_1 · x_1}·e^{\\beta_2 · x_2}·...\n",
    "\\\\]\n",
    "\n",
    "* exp($\\beta_0$) : Efecto de la media $\\lambda$ cuando X = 0\n",
    "\n",
    "* exp($\\beta_k$) $k \\in [1,m]$ : Cada incremento de unidad en $x_{k}$ tiene un efecto multiplicativo de exp($\\beta_k$) en $\\lambda$\n",
    "    * Si $\\beta_k$=0, entonces exp($\\beta_k$)=1, y el valor de $\\lambda$ es independiente del valor de X\n"
   ]
  },
  {
   "cell_type": "code",
   "execution_count": null,
   "metadata": {},
   "outputs": [],
   "source": [
    "set.seed(123)\n",
    "x<-rep(c(0.1,0.01,1,2,5,6,4,3,7,8,4.5),50)\n",
    "y<-sapply(x,function(xi) rpois(1,lambda=xi*2+5))\n",
    "df<-data.frame(y,x)"
   ]
  },
  {
   "cell_type": "code",
   "execution_count": null,
   "metadata": {},
   "outputs": [],
   "source": [
    "head(df)"
   ]
  },
  {
   "cell_type": "code",
   "execution_count": null,
   "metadata": {
    "scrolled": false
   },
   "outputs": [],
   "source": [
    "model_poisson<-glm(data=df,formula=y~x,family=poisson)\n",
    "summary(model_poisson)"
   ]
  },
  {
   "cell_type": "code",
   "execution_count": null,
   "metadata": {},
   "outputs": [],
   "source": [
    "#Los coeficientes reales serán:\n",
    "exp(model_poisson$coefficient)"
   ]
  },
  {
   "cell_type": "code",
   "execution_count": null,
   "metadata": {
    "scrolled": false
   },
   "outputs": [],
   "source": [
    "options(repr.plot.height=4,repr.plot.width=6)\n",
    "\n",
    "x_lin<-seq(0,10,length.out = 20)\n",
    "\n",
    "lambda_real<-x_lin*2+5\n",
    "plot(x_lin,lambda_real,t='l')\n",
    "\n",
    "y_est<-model_poisson$coefficient[1]+model_poisson$coefficient[2]*x_lin\n",
    "lines(x_lin,exp(y_est),col=\"red\")\n"
   ]
  },
  {
   "cell_type": "code",
   "execution_count": null,
   "metadata": {},
   "outputs": [],
   "source": [
    "xb<-df$x*model_poisson$coefficients[2]+model_poisson$coefficients[1]\n",
    "df$linear_model<-xb\n",
    "df$predict_result<-predict(model_poisson,df)\n",
    "df$y_est<-exp(xb)\n",
    "df$y_est_response<-predict(model_poisson,df,type=\"response\")"
   ]
  },
  {
   "cell_type": "code",
   "execution_count": null,
   "metadata": {},
   "outputs": [],
   "source": [
    "head(df)"
   ]
  },
  {
   "cell_type": "code",
   "execution_count": null,
   "metadata": {},
   "outputs": [],
   "source": [
    "family(model_poisson)$linkfun\n",
    "\n",
    "family(model_poisson)$linkinv "
   ]
  },
  {
   "cell_type": "code",
   "execution_count": null,
   "metadata": {},
   "outputs": [],
   "source": []
  },
  {
   "cell_type": "code",
   "execution_count": null,
   "metadata": {},
   "outputs": [],
   "source": []
  },
  {
   "cell_type": "code",
   "execution_count": null,
   "metadata": {},
   "outputs": [],
   "source": [
    "plot(df$y_est,df$y-df$y_est)\n",
    "#plot(df$y_est, residuals(model_poisson, type='response'))"
   ]
  },
  {
   "cell_type": "markdown",
   "metadata": {},
   "source": [
    "En una distribución de poisson tenemos los estimadores **media** ($\\mu$) y **varianza** ($\\sigma^2$):\n",
    "\\\\[\n",
    "\\mu=\\lambda \\qquad\n",
    "\\sigma^2=\\lambda\n",
    "\\\\]\n",
    "\n",
    "es decir, a medida que umenta el valor de $\\mu$ (nuestra predicción), también lo hará la varianza. Con lo cual es normal ver que los residuos se van esparciendo a medida que aumenta el valos predicho. Por eso se define el residuo de Pearson:\n",
    "\\\\[\n",
    "residuo_i = \\frac{y_i - \\hat{y_i}}{\\sqrt{\\hat{y_i}}}\n",
    "\\\\]"
   ]
  },
  {
   "cell_type": "code",
   "execution_count": null,
   "metadata": {},
   "outputs": [],
   "source": [
    "plot(df$y_est,(df$y-df$y_est)/sqrt(df$y_est ))\n",
    "#plot(df$y_est, residuals(model_poisson, type='pearson'))"
   ]
  },
  {
   "cell_type": "code",
   "execution_count": null,
   "metadata": {},
   "outputs": [],
   "source": [
    "plot(df$y_est,(df$y-df$y_est)/df$y_est )\n",
    "#plot(df$y_est, residuals(model_poisson, type='working'))\n",
    "#plot(df$y_est,model_poisson$residuals)"
   ]
  },
  {
   "cell_type": "code",
   "execution_count": null,
   "metadata": {},
   "outputs": [],
   "source": [
    "hist(residuals(model_poisson))"
   ]
  },
  {
   "cell_type": "markdown",
   "metadata": {},
   "source": [
    "Más información de otros tipos de residuos: https://www.datascienceblog.net/post/machine-learning/interpreting_generalized_linear_models/"
   ]
  },
  {
   "cell_type": "markdown",
   "metadata": {},
   "source": [
    "### Exponencial\n",
    "\n",
    "Describe el tiempo que transcurre entre dos eventos que siguen una distribución de Poisson. Es decir, dado un proceso que produce eventos a de forma continua e independiente a una tasa constante, el tiempo entre dos eventos vendrá dado por una distribución exponencial.\n",
    "\n",
    "Ejemplo: Tiempo entre dos llamadas consecutivas que llegan a una antena de telefonía móvil en una franja horaria.\n",
    "\n",
    "Estimadores **media** ($\\mu$) y **varianza** ($\\sigma^2$):\n",
    "\\\\[\n",
    "\\mu=\\lambda^{-1} \\qquad\n",
    "\\sigma^2=\\lambda^{-1}\n",
    "\\\\]\n",
    "\n",
    "**Función de densidad de probabilidad**\n",
    "\n",
    "\\\\[\n",
    "f(y;p)= \\left\\{ \n",
    "\\begin{matrix} \n",
    "\\lambda e^{-\\lambda y}=\\frac{1}{\\mu} e^{-\\frac{y}{\\mu}}  & \\text{si  } y \\geq 0 \\\\  \n",
    "0 & \\text{si  } y<0 \n",
    "\\end{matrix}\n",
    "\\right.\n",
    "\\\\]"
   ]
  },
  {
   "cell_type": "markdown",
   "metadata": {},
   "source": [
    "#### Función enlace \n",
    "\n",
    "En este caso la regresión lineal ha des estar en el rango $[0,\\infty]$ porque no podrán existir conteos negativos. Para esta distribución la función de enlace será función inversa $g(x)=\\frac{1}{x}$:\n",
    "\\\\[\n",
    "\\mu=\\hat{y}=g^{-1}(x·\\hat{\\beta})=\\left( x·\\hat{\\beta} \\right)^{-1}\n",
    "\\\\]\n",
    "Su inversa, la **función de enlace**, es la misma función:\n",
    "\\\\[\n",
    "x·\\hat{\\beta}=g(\\hat{y})=g(\\mu)=\\frac{1}{\\mu}\n",
    "\\\\]"
   ]
  },
  {
   "cell_type": "markdown",
   "metadata": {},
   "source": [
    "#### Estimador máxima verosimilitud\n",
    "\n",
    "Se tratará de modificar los valores de $\\beta$ para que la siguiente función sea máxima:\n",
    "\n",
    "\\\\[\n",
    "MLE=p(y_1,....y_n| x_1,....,x_n;\\beta)=\\prod_{i=1}^n \\frac{1}{\\mu} exp(-y_i·\\mu^{-1})=\\prod_{i=1}^n x_i·\\beta· exp(-y_i·x_i·\\beta)\n",
    "\\\\]\n",
    "\n",
    "Para simplificar pasamos a logaritmos:\n",
    "\\\\[\n",
    "\\log {\\Big (}{\\mathcal {L}}(\\beta ){\\Big )}=\\sum_{i=1}^n log(x_i·\\beta) - y_i·x_i·\\beta\n",
    "\\\\]"
   ]
  },
  {
   "cell_type": "markdown",
   "metadata": {},
   "source": [
    "Ejemplo: \n",
    "\n",
    "Supongamos que tenemos un call center que recibe más o menos llamadas en función de la lluvia.\n",
    "\n",
    "* Si no llueve recibe 5 llamadas/minuto. Eso implica una media de 0.2 minutos entre dos llamadas\n",
    "* Por cada mm de lluvia que cae aumenta en 2 las llamadas por minuto. \n",
    "\n",
    "Las llamadas por minuto que se esperan será:\n",
    "\\\\[\n",
    " \\lambda = y = 2·x + 5\n",
    "\\\\]\n",
    "El tiempo medio (minutos de espera) entre llamadas será:\n",
    "\\\\[\n",
    " \\mu = \\frac{1}{\\lambda} = \\frac{1}{2·x + 5}\n",
    "\\\\]\n",
    "\n",
    "Pero todo esto es desconocido para nosotros. Solo tenemos como parametro de entrada el tiempo de espera entre dos llamadas (columna y) y la lluvia (columna x):"
   ]
  },
  {
   "cell_type": "code",
   "execution_count": null,
   "metadata": {},
   "outputs": [],
   "source": [
    "set.seed(123)\n",
    "x<-rep(c(0,0.1,1,2,5,6,4,3,7),50)\n",
    "y<-sapply(x,function(xi) rexp(1,rate=xi*2+5))\n",
    "df<-data.frame(y,x)"
   ]
  },
  {
   "cell_type": "code",
   "execution_count": null,
   "metadata": {},
   "outputs": [],
   "source": [
    "head(df)"
   ]
  },
  {
   "cell_type": "code",
   "execution_count": null,
   "metadata": {},
   "outputs": [],
   "source": [
    "df %>% group_by(x) %>% summarize(mu=mean(y), real=1/(2*first(x)+5))"
   ]
  },
  {
   "cell_type": "code",
   "execution_count": null,
   "metadata": {},
   "outputs": [],
   "source": [
    "library(ggplot2)\n",
    "ggplot(df,aes(x,y))+geom_point()+geom_point(y=1/(df$x*2+5),color=\"red\")"
   ]
  },
  {
   "cell_type": "code",
   "execution_count": null,
   "metadata": {},
   "outputs": [],
   "source": [
    "?family"
   ]
  },
  {
   "cell_type": "code",
   "execution_count": null,
   "metadata": {
    "scrolled": false
   },
   "outputs": [],
   "source": [
    "model_exp<-glm(data=df,formula=y~x,family=Gamma)\n",
    "summary(model_exp)"
   ]
  },
  {
   "cell_type": "code",
   "execution_count": null,
   "metadata": {
    "scrolled": false
   },
   "outputs": [],
   "source": [
    "x_lin<-seq(0,10,length.out = 20)\n",
    "y_est<-model_exp$coefficient[1]+model_exp$coefficient[2]*x_lin\n",
    "#y_est<-predict(model_exp,data.frame(x=x_lin))\n",
    "\n",
    "lambda_real<-x_lin*2+5\n",
    "plot(x_lin,lambda_real,t='l')\n",
    "lines(x_lin,y_est,col=\"red\")"
   ]
  },
  {
   "cell_type": "markdown",
   "metadata": {},
   "source": [
    "Esta curva nos dice:\n",
    "\n",
    "* Si no llueve recibimos 4.8 llamadas/min (sabemos que la real es 5).\n",
    "\n",
    "* Si llueve 1mm recibiremos 2.11 llamadas/min (sabemos que la real es 2)"
   ]
  },
  {
   "cell_type": "code",
   "execution_count": null,
   "metadata": {},
   "outputs": [],
   "source": [
    "paste(\"Si no llueve recibimos\", round(model_exp$coefficient[1],3),\" llamadas/min (sabemos que la real es 5).\")\n",
    "paste(\"Por cada mm de lluvia que caiga reciviremos \", round(model_exp$coefficient[2],3),\" llamadas/min más (sabemos que la real es 2).\")"
   ]
  },
  {
   "cell_type": "code",
   "execution_count": null,
   "metadata": {},
   "outputs": [],
   "source": [
    "x_lin<-seq(0,10,length.out = 20)\n",
    "y_est<-model_exp$coefficient[1]+model_exp$coefficient[2]*x_lin\n",
    "mu_est<- (1/y_est)\n",
    "#mu_est<-predict(model_exp,data.frame(x=x_lin),type=\"response\")\n",
    "\n",
    "lambda_real<-x_lin*2+5\n",
    "mu_real<-1/lambda_real\n",
    "\n",
    "plot(x_lin,mu_est*60,t='l',col=\"red\")\n",
    "lines(x_lin,mu_real*60,col=\"black\")\n",
    "grid()"
   ]
  },
  {
   "cell_type": "markdown",
   "metadata": {},
   "source": [
    "Esta curva nos dice:\n"
   ]
  },
  {
   "cell_type": "code",
   "execution_count": null,
   "metadata": {},
   "outputs": [],
   "source": [
    "paste(\"Si no llueve recibimos 1 llamada cada \",predict(model_exp,data.frame(x=0),type='response')*60, \"segundos\")\n",
    "ll<-3\n",
    "pr<-round(predict(model_exp,data.frame(x=ll),type='response')*60,2)\n",
    "paste(\"Si llueve\",ll,\"mm recibimos 1 llamada cada \",pr, \n",
    "      \"segundos (sabemos que el real es\",1/(ll*2+5)*60,\")\")\n"
   ]
  },
  {
   "cell_type": "code",
   "execution_count": null,
   "metadata": {},
   "outputs": [],
   "source": [
    "hist(model_exp$residuals,breaks=30)"
   ]
  },
  {
   "cell_type": "code",
   "execution_count": null,
   "metadata": {},
   "outputs": [],
   "source": [
    "plot(model_exp$data$y,model_exp$residuals)"
   ]
  },
  {
   "cell_type": "code",
   "execution_count": null,
   "metadata": {},
   "outputs": [],
   "source": [
    "plot(df$y, residuals(model_exp, type='working'))"
   ]
  },
  {
   "cell_type": "code",
   "execution_count": null,
   "metadata": {},
   "outputs": [],
   "source": [
    "plot(df$y, residuals(model_exp, type='pearson'))"
   ]
  },
  {
   "cell_type": "code",
   "execution_count": null,
   "metadata": {},
   "outputs": [],
   "source": [
    "hist(model_exp$residuals,breaks=30)"
   ]
  },
  {
   "cell_type": "markdown",
   "metadata": {},
   "source": [
    "## Ejemplo:\n",
    "\n",
    "Accidentes de tráfico. Datos desde 2009 hasta 2016\n",
    "-   Accidentes por distrito y con víctimas\n",
    "\n",
    "https://datos.madrid.es/"
   ]
  },
  {
   "cell_type": "code",
   "execution_count": null,
   "metadata": {},
   "outputs": [],
   "source": [
    "accidentes<-read.csv('data//Accidentes_Madrid.csv')"
   ]
  },
  {
   "cell_type": "code",
   "execution_count": null,
   "metadata": {},
   "outputs": [],
   "source": [
    "head(accidentes)"
   ]
  },
  {
   "cell_type": "code",
   "execution_count": null,
   "metadata": {},
   "outputs": [],
   "source": [
    "acc_tmp<-t(accidentes)\n",
    "acc_tmp[1,]"
   ]
  },
  {
   "cell_type": "code",
   "execution_count": null,
   "metadata": {},
   "outputs": [],
   "source": [
    "nrow(acc_tmp[2:nrow(acc_tmp),])"
   ]
  },
  {
   "cell_type": "code",
   "execution_count": null,
   "metadata": {},
   "outputs": [],
   "source": [
    "accidentes_t=data.frame(acc_tmp[2:nrow(acc_tmp),])\n",
    "colnames(accidentes_t)<-c(\"tipo\",acc_tmp[1,2:ncol(acc_tmp)])\n",
    "accidentes_t$anyo<-as.numeric(substr(rownames(accidentes_t),2,6))\n",
    "rownames(accidentes_t)<-NULL\n",
    "\n",
    "library(plyr)\n",
    "accidentes_t$tipo<-revalue(accidentes_t$tipo, \n",
    "                           c(\"Nº Accidentes\"=\"Total\", \"Nº Accidentes con víctimas\"=\"victimas\"))\n",
    "head(accidentes_t)"
   ]
  },
  {
   "cell_type": "code",
   "execution_count": null,
   "metadata": {},
   "outputs": [],
   "source": []
  },
  {
   "cell_type": "code",
   "execution_count": null,
   "metadata": {},
   "outputs": [],
   "source": [
    "library(reshape2)\n",
    "library(dplyr)"
   ]
  },
  {
   "cell_type": "code",
   "execution_count": null,
   "metadata": {},
   "outputs": [],
   "source": [
    "df_acc<-melt(data=accidentes_t,id.vars=c(\"anyo\",\"tipo\"))\n",
    "df_acc$value<-as.numeric(df_acc$value)\n",
    "\n",
    "df_acc<-df_acc %>% dplyr::rename(distrito=variable)\n",
    "df_acc$distrito=factor(trimws(df_acc$distrito))\n",
    "head(df_acc)"
   ]
  },
  {
   "cell_type": "code",
   "execution_count": null,
   "metadata": {},
   "outputs": [],
   "source": [
    "df_acc_total<-df_acc[df_acc$tipo==\"Total\",]\n",
    "df_acc_total<-df_acc_total %>% dplyr::rename(Total=value) %>% select(-tipo)\n",
    "\n",
    "\n",
    "df_acc_victimas<-df_acc[df_acc$tipo==\"victimas\",]\n",
    "df_acc_victimas<-df_acc_victimas %>% dplyr::rename(victimas=value)  %>% select(-tipo)\n",
    "\n",
    "df_acc<-merge(df_acc_total,df_acc_victimas,by=c(\"anyo\",\"distrito\"))"
   ]
  },
  {
   "cell_type": "code",
   "execution_count": null,
   "metadata": {},
   "outputs": [],
   "source": [
    "str(df_acc)"
   ]
  },
  {
   "cell_type": "code",
   "execution_count": null,
   "metadata": {},
   "outputs": [],
   "source": [
    "library(ggplot2)\n",
    "ggplot(df_acc,aes(x=anyo,y=victimas))+geom_point()+geom_smooth()"
   ]
  },
  {
   "cell_type": "markdown",
   "metadata": {},
   "source": [
    "### Modelo\n",
    "\n",
    "Vamos a crear un modelo GLM basado en Poisson y otro en el tradicional Gauss. Estos modelos tratarán de predecir el número medio de victimas que hay en función del año para todos los distritos. Más adelante realizaremos una separación por distrito, pero por ahora ignoraremos la columna distrito.\n",
    "\n",
    "Como veremos el AIC es mayor en el modelo gaussiano que en el de poisson, lo que significa que la verosimilitud (likelihood) es mayor en la del modelo de Poisson."
   ]
  },
  {
   "cell_type": "code",
   "execution_count": null,
   "metadata": {},
   "outputs": [],
   "source": [
    "model_accidente<-glm(df_acc,formula=\"victimas~anyo\",family=poisson)\n",
    "summary(model_accidente)"
   ]
  },
  {
   "cell_type": "code",
   "execution_count": null,
   "metadata": {},
   "outputs": [],
   "source": [
    "model_accidente_gauss<-glm(df_acc,formula=victimas~anyo,family=gaussian)\n",
    "summary(model_accidente_gauss)"
   ]
  },
  {
   "cell_type": "code",
   "execution_count": null,
   "metadata": {},
   "outputs": [],
   "source": [
    "df_acc$pred_poisson<-exp(predict(model_accidente,df_acc))\n",
    "#df_acc$pred_poisson<-predict(model_accidente,df_acc, type=\"response\")\n",
    "df_acc$pred_gaussian<-predict(model_accidente_gauss,df_acc)"
   ]
  },
  {
   "cell_type": "code",
   "execution_count": null,
   "metadata": {},
   "outputs": [],
   "source": [
    "confint(model_accidente)\n",
    "confint(model_accidente_gauss)"
   ]
  },
  {
   "cell_type": "markdown",
   "metadata": {},
   "source": [
    "Si pintamos los dos modelos veremos que las líneas de la regresión son prácticamente idénticas:"
   ]
  },
  {
   "cell_type": "code",
   "execution_count": null,
   "metadata": {},
   "outputs": [],
   "source": [
    "options(repr.plot.height=4,repr.plot.width=6)\n",
    "\n",
    "library(ggplot2)\n",
    "ggplot(df_acc,aes(x=anyo,y=victimas))+geom_point()+\n",
    "geom_line(aes(y=pred_poisson),color=\"red\")+geom_line(aes(y=pred_gaussian),color=\"blue\")"
   ]
  },
  {
   "cell_type": "markdown",
   "metadata": {},
   "source": [
    "Si comprobamos su valor estimado año a año vemos que las diferencias son mínimas. \n",
    "\n",
    "Si comprobamos la diferencia de un año al siguiente en la predicción gaussiana vemos como la diferencia es constante, todos los años el número de víctimas aumenta de forma lineal en 7.127, el cual se corresponde con el coeficiente. Para este caso la formula de la predicción es:\n",
    "\\\\[\n",
    "victimas= -13897.377 + anyo·7.127\n",
    "\\\\]\n",
    "\n",
    "En cambio en la regressión de Poission nos dice que el número medio de victimas esperado cada año en un distrito es:\n",
    "\\\\[\n",
    "victimas= exp(-26.092504 + anyo·0.015996) \\\\\n",
    "victimas= exp(-26.092504)· exp(anyo·0.015996) \\\\\n",
    "victimas= 4.657·10^{-12}· exp(anyo·0.015996) \n",
    "\\\\]\n",
    "lo que significa que cada año que pasa el número de victimas aumenta de forma geométrica $e^{0.015996}=1.016124$. Es decir, cada año los accidentes aumentan un 1.6%."
   ]
  },
  {
   "cell_type": "code",
   "execution_count": null,
   "metadata": {},
   "outputs": [],
   "source": [
    "df_acc_pred<-unique(df_acc[,c(\"anyo\",\"pred_poisson\",\"pred_gaussian\")])\n",
    "df_acc_pred"
   ]
  },
  {
   "cell_type": "code",
   "execution_count": null,
   "metadata": {},
   "outputs": [],
   "source": [
    "data.frame(diff(as.matrix(df_acc_pred)))"
   ]
  },
  {
   "cell_type": "code",
   "execution_count": null,
   "metadata": {},
   "outputs": [],
   "source": [
    "data.frame(diff(as.matrix(log(df_acc_pred))))"
   ]
  },
  {
   "cell_type": "code",
   "execution_count": null,
   "metadata": {},
   "outputs": [],
   "source": [
    "head(df_acc)"
   ]
  },
  {
   "cell_type": "markdown",
   "metadata": {},
   "source": [
    "Podemos obtener los mismos resultados agregando todos los valores de cada distrito:"
   ]
  },
  {
   "cell_type": "code",
   "execution_count": null,
   "metadata": {},
   "outputs": [],
   "source": [
    "num_distritos <- length(levels(df_acc$distrito))\n",
    "df_acc_t<-df_acc %>% dplyr::group_by(anyo) %>% dplyr::summarise(Total = sum(Total)/num_distritos, victimas=sum(victimas)/num_distritos)\n",
    "head(df_acc_t)\n",
    "\n",
    "\n",
    "model_accidente_t<-glm(df_acc_t,formula=\"victimas~anyo\",family=poisson)\n",
    "summary(model_accidente_t)"
   ]
  },
  {
   "cell_type": "code",
   "execution_count": null,
   "metadata": {},
   "outputs": [],
   "source": [
    "model_accidente<-glm(df_acc,formula=\"victimas~distrito+anyo\",family=poisson)\n",
    "summary(model_accidente)"
   ]
  },
  {
   "cell_type": "markdown",
   "metadata": {},
   "source": [
    "Podemos mirar como cambia por distrito. \n",
    "\n",
    "Si nos fijamos, la pendiente será la misma, pero cada distrito tiene un valor muy diferente. El modelo que hemos analizado es:\n",
    "\\\\[\n",
    "victimas= exp(-26.027735 + anyo·0.015996+\\Delta_{distrito})\n",
    "\\\\]\n",
    "Donde $\\Delta_{distrito}$ es el incremento (o decremento) respecto al distrito base, el de ARGANZUELA.\n",
    "\n",
    "Así el distrito de Chamartín tiene un 46% ($e^{0.382419}=1.46$) más de accidentes que el distrito de Arganuzela.\n",
    "\n",
    "Si queremos comparar cuantos accidentes hay en Moncloa-Aravaca respecto a Chamartin solo tenemos que restar sus coeficientes: $e^{0.135960-0.382419}=e^{-0.246458}=0.78$.\n"
   ]
  },
  {
   "cell_type": "code",
   "execution_count": null,
   "metadata": {},
   "outputs": [],
   "source": [
    "df_acc = df_acc %>% mutate(distrito_relevel = relevel(distrito, ref=\"CHAMARTIN\"))\n",
    "\n",
    "model_accidente<-glm(df_acc,formula=victimas~anyo+distrito_relevel,family=poisson)\n",
    "\n",
    "summary(model_accidente)"
   ]
  },
  {
   "cell_type": "markdown",
   "metadata": {},
   "source": [
    "Otra opción es ver si en algún distrito está disminuyendo el número de accidentes año tras año.\n",
    "Para ello usamos la formula:\n",
    "\\\\[\n",
    "victimas= exp(-25.69 + anyo·0.01583+\\Delta_{distrito}+\\Delta_{distrito\\_anyo}·anyo)\n",
    "\\\\]\n",
    "Donde $\\Delta_{distrito}$ es el incremento (o decremento) respecto al distrito base, el de ARGANZUELA y \n",
    "$\\Delta_{distrito\\_anyo}$ es cuanto aumenta cada año respecto al base de ARGANZUELA."
   ]
  },
  {
   "cell_type": "code",
   "execution_count": null,
   "metadata": {},
   "outputs": [],
   "source": [
    "model_accidente<-glm(df_acc,formula=\"victimas~distrito*anyo\",family=poisson)\n",
    "summary(model_accidente)"
   ]
  },
  {
   "cell_type": "markdown",
   "metadata": {},
   "source": [
    "Así por ejemplo para el distrito de MONCLOA-ARAVACA, tenemos:\n",
    "\\\\[\n",
    "victimas= exp(-25.69 + anyo·0.01583+39.11-0.01937·anyo)\n",
    "\\\\]\n"
   ]
  },
  {
   "cell_type": "code",
   "execution_count": null,
   "metadata": {},
   "outputs": [],
   "source": [
    "df_moncloa<-data.frame(distrito=\"MONCLOA-ARAVACA\",anyo=2009:2016)\n",
    "df_moncloa$pred<-exp(predict(model_accidente,df_moncloa))\n",
    "df_moncloa<-merge(df_moncloa,df_acc[,c(\"anyo\",\"distrito\",\"victimas\")],by=c(\"anyo\",\"distrito\"))\n",
    "df_moncloa"
   ]
  },
  {
   "cell_type": "code",
   "execution_count": null,
   "metadata": {},
   "outputs": [],
   "source": [
    "ggplot(df_moncloa,aes(x=anyo))+geom_line(aes(y=pred),color=\"red\")+geom_point(aes(y=victimas))"
   ]
  },
  {
   "cell_type": "code",
   "execution_count": null,
   "metadata": {},
   "outputs": [],
   "source": [
    "cnf<-confint(model_accidente)\n",
    "cnf[c(\"(Intercept)\",\"anyo\",\"distritoMONCLOA-ARAVACA\",\"distritoMONCLOA-ARAVACA:anyo\"),]"
   ]
  },
  {
   "cell_type": "code",
   "execution_count": null,
   "metadata": {},
   "outputs": [],
   "source": [
    "df_acc = df_acc %>% mutate(distrito_relevel = relevel(distrito, ref=\"MONCLOA-ARAVACA\"))\n",
    "model_accidente<-glm(df_acc,formula=victimas~anyo*distrito_relevel,family=poisson)\n",
    "summary(model_accidente)\n",
    "cnf<-confint(model_accidente)\n",
    "cnf[c(\"(Intercept)\",\"anyo\"),]"
   ]
  },
  {
   "cell_type": "markdown",
   "metadata": {},
   "source": [
    "# COVID-19"
   ]
  },
  {
   "cell_type": "code",
   "execution_count": null,
   "metadata": {},
   "outputs": [],
   "source": [
    "library(tidyverse)\n",
    "#df_acumulados<-read.csv(\"https://covid19.isciii.es/resources/serie_historica_acumulados.csv\")\n",
    "df_acumulados<-read.csv(\"data/serie_historica_acumulados.csv\")\n",
    "df_acumulados$FECHA<-as.Date(df_acumulados$FECHA,format=\"%d/%m/%Y\")\n",
    "head(df_acumulados)"
   ]
  },
  {
   "cell_type": "code",
   "execution_count": null,
   "metadata": {},
   "outputs": [],
   "source": [
    "df_acumulados_all<-df_acumulados %>% group_by(FECHA) %>% \n",
    "    summarise_at(c(\"CASOS\",\"Hospitalizados\",\"UCI\",\"Fallecidos\",\"Recuperados\"), sum, na.rm = TRUE)"
   ]
  },
  {
   "cell_type": "code",
   "execution_count": null,
   "metadata": {},
   "outputs": [],
   "source": [
    "ggplot(df_acumulados_all,aes(x=FECHA,y=Fallecidos))+geom_line()"
   ]
  },
  {
   "cell_type": "code",
   "execution_count": null,
   "metadata": {},
   "outputs": [],
   "source": [
    "df_acumulados<-df_acumulados %>% filter(FECHA<as.Date(\"2020-04-01\"))\n",
    "df_acumulados_all<-df_acumulados_all %>% filter(FECHA<as.Date(\"2020-04-01\"))\n",
    "df_acumulados_all$Fallecidos_dia<-c(NA,diff(df_acumulados_all$Fallecidos))\n",
    "df_acumulados_all$dia<-seq(nrow(df_acumulados_all))"
   ]
  },
  {
   "cell_type": "code",
   "execution_count": null,
   "metadata": {},
   "outputs": [],
   "source": [
    "tail(df_acumulados_all)"
   ]
  },
  {
   "cell_type": "code",
   "execution_count": null,
   "metadata": {},
   "outputs": [],
   "source": [
    "model_poisson<-glm(df_acumulados_all,formula=Fallecidos_dia~dia,family=poisson)\n",
    "summary(model_poisson)"
   ]
  },
  {
   "cell_type": "code",
   "execution_count": null,
   "metadata": {},
   "outputs": [],
   "source": [
    "paste(\"Cada día las vícimas se multiplican por\",exp(model_poisson$coefficients[2]))"
   ]
  },
  {
   "cell_type": "code",
   "execution_count": null,
   "metadata": {},
   "outputs": [],
   "source": [
    "preds<-df_acumulados_all[,c(\"Fallecidos_dia\",\"dia\",\"FECHA\")]\n",
    "preds$pred<-predict(model_poisson,preds,type=\"response\")\n",
    "#preds$pred<-exp(model_poisson$coefficients[2]*preds$dia+model_poisson$coefficients[1])\n",
    "ggplot(preds,aes(x=FECHA))+\n",
    "    geom_line(aes(y=Fallecidos_dia,color=\"Real\"))+\n",
    "    geom_line(aes(y=pred,color=\"Estimado\"))"
   ]
  },
  {
   "cell_type": "code",
   "execution_count": null,
   "metadata": {},
   "outputs": [],
   "source": [
    "df_acumulados_all$log_fallecidos<-log(df_acumulados_all$Fallecidos_dia)\n",
    "df_acumulados_all_no_inf<-df_acumulados_all[!is.infinite(df_acumulados_all$log_fallecidos),]\n",
    "\n",
    "model<-lm(data=df_acumulados_all_no_inf,\n",
    "           formula=log_fallecidos~dia)\n",
    "summary(model)"
   ]
  },
  {
   "cell_type": "code",
   "execution_count": null,
   "metadata": {},
   "outputs": [],
   "source": [
    "paste(\"Cada día las vícimas se multiplican por\",exp(model$coefficients[2]))"
   ]
  },
  {
   "cell_type": "code",
   "execution_count": null,
   "metadata": {},
   "outputs": [],
   "source": [
    "preds<-df_acumulados_all[,c(\"Fallecidos_dia\",\"log_fallecidos\",\"dia\",\"FECHA\")]\n",
    "preds$pred<-predict(model,preds)\n",
    "preds$pred_fallecidos<-exp(preds$pred)\n",
    "ggplot(preds,aes(x=FECHA))+\n",
    "    geom_line(aes(y=Fallecidos_dia,color=\"Real\"))+\n",
    "    geom_line(aes(y=pred_fallecidos,color=\"Estimado\"))"
   ]
  },
  {
   "cell_type": "markdown",
   "metadata": {},
   "source": [
    "# Test A/B con GLM\n",
    "\n",
    "Repetimos el test A/B que hicimos en el curso de estadística en el notebook 7, donde comparamos la versión frecuentista con la bayesiana.\n",
    "\n",
    "Ahora utilizaremos una versión basada en GLM.\n",
    "\n",
    "Más información aquí:\n",
    "https://rpubs.com/Mike/ab-test\n",
    "\n"
   ]
  },
  {
   "cell_type": "code",
   "execution_count": null,
   "metadata": {},
   "outputs": [],
   "source": [
    "na_t <- 1000\n",
    "na_s <- 197\n",
    "nb_t <- 1000\n",
    "nb_s <- 230\n",
    "m <- matrix(c(na_s,na_t,nb_s,nb_t), byrow = T,nrow = 2,\n",
    "            dimnames=list(c(\"control\",\"nuevo\"),c(\"exitos\",\"intentos\")))\n",
    "m"
   ]
  },
  {
   "cell_type": "code",
   "execution_count": null,
   "metadata": {},
   "outputs": [],
   "source": [
    "chisq.test(m)"
   ]
  },
  {
   "cell_type": "code",
   "execution_count": null,
   "metadata": {},
   "outputs": [],
   "source": [
    "df=data.frame(m)\n",
    "df$type<-factor(rownames(df))\n",
    "df"
   ]
  },
  {
   "cell_type": "code",
   "execution_count": null,
   "metadata": {},
   "outputs": [],
   "source": [
    "df$exitos[2]/df$exitos[1]"
   ]
  },
  {
   "cell_type": "markdown",
   "metadata": {},
   "source": [
    "### Regresión logística\n",
    "\n",
    "\\\\[\n",
    "log(Odds)=log \\left(\\frac{p}{1-p} \\right)=\\beta_0+\\beta_1 · x\n",
    "\\\\]\n",
    "\\\\[\n",
    "\\frac{p}{1-p}=e^{\\beta_0}·e^{\\beta_1 · x}\n",
    "\\\\]"
   ]
  },
  {
   "cell_type": "code",
   "execution_count": null,
   "metadata": {},
   "outputs": [],
   "source": [
    "model <- glm(cbind(exitos, intentos-exitos) ~ type, family=binomial, data=df)\n",
    "summary(model)\n",
    "exp(model$coef[2])\n",
    "exp(confint(model))"
   ]
  },
  {
   "cell_type": "markdown",
   "metadata": {},
   "source": [
    "#### Regresión poisson\n",
    "\n",
    "La regresión de poisson se usa tipicamente para modelar conteo de datos. Pero a veces es más relevante modelar el ratio en lugar del conteo.\n",
    "\n",
    "Así en lugar de tener:\n",
    "\\\\[\n",
    "log(y)=\\beta_0+\\beta_1x\n",
    "\\\\]\n",
    "donde y es el conteo esperado para las variable $x$ tenemos:\n",
    "\n",
    "\\\\[\n",
    "log(\\frac{y}{n})=\\beta_0+\\beta_1x\n",
    "\\\\]\n",
    "donde n es el número de intentos para esa variable x. Así la ecuación puede ser escrita como:\n",
    "\\\\[\n",
    "log(y)=log(n)+\\beta_0+\\beta_1x\n",
    "\\\\]\n",
    "Ese valor de $log(n)$ es lo que se conoce como offset()"
   ]
  },
  {
   "cell_type": "code",
   "execution_count": null,
   "metadata": {},
   "outputs": [],
   "source": [
    "model<-glm(formula=exitos~type+offset(log(intentos)),data=df,family=poisson)\n",
    "summary(model)\n",
    "#library(jtools)\n",
    "#plot_summs(model, scale = TRUE, exp = TRUE)\n",
    "exp(model$coef[2])\n",
    "exp(confint(model))"
   ]
  },
  {
   "cell_type": "code",
   "execution_count": null,
   "metadata": {},
   "outputs": [],
   "source": []
  },
  {
   "cell_type": "markdown",
   "metadata": {},
   "source": [
    "## Información complementaria\n",
    "\n",
    "¿Que modelo de regresión debería elegir?\n",
    "\n",
    "https://www.maximaformacion.es/blog-dat/que-modelo-de-regresion-deberia-elegir/"
   ]
  },
  {
   "cell_type": "code",
   "execution_count": null,
   "metadata": {},
   "outputs": [],
   "source": []
  }
 ],
 "metadata": {
  "kernelspec": {
   "display_name": "R",
   "language": "R",
   "name": "ir"
  },
  "language_info": {
   "codemirror_mode": "r",
   "file_extension": ".r",
   "mimetype": "text/x-r-source",
   "name": "R",
   "pygments_lexer": "r",
   "version": "4.1.0"
  }
 },
 "nbformat": 4,
 "nbformat_minor": 2
}
